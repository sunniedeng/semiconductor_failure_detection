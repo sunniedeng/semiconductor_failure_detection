{
 "cells": [
  {
   "cell_type": "code",
   "execution_count": 1,
   "id": "dc9b06b4",
   "metadata": {},
   "outputs": [],
   "source": [
    "import pandas as pd\n",
    "import numpy as np\n",
    "import seaborn as sns\n",
    "import matplotlib.pyplot as plt\n",
    "%matplotlib inline"
   ]
  },
  {
   "cell_type": "code",
   "execution_count": 2,
   "id": "619208f1",
   "metadata": {},
   "outputs": [],
   "source": [
    "df=pd.read_csv('uci-secom.csv')"
   ]
  },
  {
   "cell_type": "code",
   "execution_count": 3,
   "id": "1361847a",
   "metadata": {},
   "outputs": [
    {
     "data": {
      "text/html": [
       "<div>\n",
       "<style scoped>\n",
       "    .dataframe tbody tr th:only-of-type {\n",
       "        vertical-align: middle;\n",
       "    }\n",
       "\n",
       "    .dataframe tbody tr th {\n",
       "        vertical-align: top;\n",
       "    }\n",
       "\n",
       "    .dataframe thead th {\n",
       "        text-align: right;\n",
       "    }\n",
       "</style>\n",
       "<table border=\"1\" class=\"dataframe\">\n",
       "  <thead>\n",
       "    <tr style=\"text-align: right;\">\n",
       "      <th></th>\n",
       "      <th>Time</th>\n",
       "      <th>0</th>\n",
       "      <th>1</th>\n",
       "      <th>2</th>\n",
       "      <th>3</th>\n",
       "      <th>4</th>\n",
       "      <th>5</th>\n",
       "      <th>6</th>\n",
       "      <th>7</th>\n",
       "      <th>8</th>\n",
       "      <th>...</th>\n",
       "      <th>581</th>\n",
       "      <th>582</th>\n",
       "      <th>583</th>\n",
       "      <th>584</th>\n",
       "      <th>585</th>\n",
       "      <th>586</th>\n",
       "      <th>587</th>\n",
       "      <th>588</th>\n",
       "      <th>589</th>\n",
       "      <th>Pass/Fail</th>\n",
       "    </tr>\n",
       "  </thead>\n",
       "  <tbody>\n",
       "    <tr>\n",
       "      <th>0</th>\n",
       "      <td>2008-07-19 11:55:00</td>\n",
       "      <td>3030.93</td>\n",
       "      <td>2564.00</td>\n",
       "      <td>2187.7333</td>\n",
       "      <td>1411.1265</td>\n",
       "      <td>1.3602</td>\n",
       "      <td>100.0</td>\n",
       "      <td>97.6133</td>\n",
       "      <td>0.1242</td>\n",
       "      <td>1.5005</td>\n",
       "      <td>...</td>\n",
       "      <td>NaN</td>\n",
       "      <td>0.5005</td>\n",
       "      <td>0.0118</td>\n",
       "      <td>0.0035</td>\n",
       "      <td>2.3630</td>\n",
       "      <td>NaN</td>\n",
       "      <td>NaN</td>\n",
       "      <td>NaN</td>\n",
       "      <td>NaN</td>\n",
       "      <td>-1</td>\n",
       "    </tr>\n",
       "    <tr>\n",
       "      <th>1</th>\n",
       "      <td>2008-07-19 12:32:00</td>\n",
       "      <td>3095.78</td>\n",
       "      <td>2465.14</td>\n",
       "      <td>2230.4222</td>\n",
       "      <td>1463.6606</td>\n",
       "      <td>0.8294</td>\n",
       "      <td>100.0</td>\n",
       "      <td>102.3433</td>\n",
       "      <td>0.1247</td>\n",
       "      <td>1.4966</td>\n",
       "      <td>...</td>\n",
       "      <td>208.2045</td>\n",
       "      <td>0.5019</td>\n",
       "      <td>0.0223</td>\n",
       "      <td>0.0055</td>\n",
       "      <td>4.4447</td>\n",
       "      <td>0.0096</td>\n",
       "      <td>0.0201</td>\n",
       "      <td>0.0060</td>\n",
       "      <td>208.2045</td>\n",
       "      <td>-1</td>\n",
       "    </tr>\n",
       "    <tr>\n",
       "      <th>2</th>\n",
       "      <td>2008-07-19 13:17:00</td>\n",
       "      <td>2932.61</td>\n",
       "      <td>2559.94</td>\n",
       "      <td>2186.4111</td>\n",
       "      <td>1698.0172</td>\n",
       "      <td>1.5102</td>\n",
       "      <td>100.0</td>\n",
       "      <td>95.4878</td>\n",
       "      <td>0.1241</td>\n",
       "      <td>1.4436</td>\n",
       "      <td>...</td>\n",
       "      <td>82.8602</td>\n",
       "      <td>0.4958</td>\n",
       "      <td>0.0157</td>\n",
       "      <td>0.0039</td>\n",
       "      <td>3.1745</td>\n",
       "      <td>0.0584</td>\n",
       "      <td>0.0484</td>\n",
       "      <td>0.0148</td>\n",
       "      <td>82.8602</td>\n",
       "      <td>1</td>\n",
       "    </tr>\n",
       "    <tr>\n",
       "      <th>3</th>\n",
       "      <td>2008-07-19 14:43:00</td>\n",
       "      <td>2988.72</td>\n",
       "      <td>2479.90</td>\n",
       "      <td>2199.0333</td>\n",
       "      <td>909.7926</td>\n",
       "      <td>1.3204</td>\n",
       "      <td>100.0</td>\n",
       "      <td>104.2367</td>\n",
       "      <td>0.1217</td>\n",
       "      <td>1.4882</td>\n",
       "      <td>...</td>\n",
       "      <td>73.8432</td>\n",
       "      <td>0.4990</td>\n",
       "      <td>0.0103</td>\n",
       "      <td>0.0025</td>\n",
       "      <td>2.0544</td>\n",
       "      <td>0.0202</td>\n",
       "      <td>0.0149</td>\n",
       "      <td>0.0044</td>\n",
       "      <td>73.8432</td>\n",
       "      <td>-1</td>\n",
       "    </tr>\n",
       "    <tr>\n",
       "      <th>4</th>\n",
       "      <td>2008-07-19 15:22:00</td>\n",
       "      <td>3032.24</td>\n",
       "      <td>2502.87</td>\n",
       "      <td>2233.3667</td>\n",
       "      <td>1326.5200</td>\n",
       "      <td>1.5334</td>\n",
       "      <td>100.0</td>\n",
       "      <td>100.3967</td>\n",
       "      <td>0.1235</td>\n",
       "      <td>1.5031</td>\n",
       "      <td>...</td>\n",
       "      <td>NaN</td>\n",
       "      <td>0.4800</td>\n",
       "      <td>0.4766</td>\n",
       "      <td>0.1045</td>\n",
       "      <td>99.3032</td>\n",
       "      <td>0.0202</td>\n",
       "      <td>0.0149</td>\n",
       "      <td>0.0044</td>\n",
       "      <td>73.8432</td>\n",
       "      <td>-1</td>\n",
       "    </tr>\n",
       "  </tbody>\n",
       "</table>\n",
       "<p>5 rows × 592 columns</p>\n",
       "</div>"
      ],
      "text/plain": [
       "                  Time        0        1          2          3       4      5  \\\n",
       "0  2008-07-19 11:55:00  3030.93  2564.00  2187.7333  1411.1265  1.3602  100.0   \n",
       "1  2008-07-19 12:32:00  3095.78  2465.14  2230.4222  1463.6606  0.8294  100.0   \n",
       "2  2008-07-19 13:17:00  2932.61  2559.94  2186.4111  1698.0172  1.5102  100.0   \n",
       "3  2008-07-19 14:43:00  2988.72  2479.90  2199.0333   909.7926  1.3204  100.0   \n",
       "4  2008-07-19 15:22:00  3032.24  2502.87  2233.3667  1326.5200  1.5334  100.0   \n",
       "\n",
       "          6       7       8  ...       581     582     583     584      585  \\\n",
       "0   97.6133  0.1242  1.5005  ...       NaN  0.5005  0.0118  0.0035   2.3630   \n",
       "1  102.3433  0.1247  1.4966  ...  208.2045  0.5019  0.0223  0.0055   4.4447   \n",
       "2   95.4878  0.1241  1.4436  ...   82.8602  0.4958  0.0157  0.0039   3.1745   \n",
       "3  104.2367  0.1217  1.4882  ...   73.8432  0.4990  0.0103  0.0025   2.0544   \n",
       "4  100.3967  0.1235  1.5031  ...       NaN  0.4800  0.4766  0.1045  99.3032   \n",
       "\n",
       "      586     587     588       589  Pass/Fail  \n",
       "0     NaN     NaN     NaN       NaN         -1  \n",
       "1  0.0096  0.0201  0.0060  208.2045         -1  \n",
       "2  0.0584  0.0484  0.0148   82.8602          1  \n",
       "3  0.0202  0.0149  0.0044   73.8432         -1  \n",
       "4  0.0202  0.0149  0.0044   73.8432         -1  \n",
       "\n",
       "[5 rows x 592 columns]"
      ]
     },
     "execution_count": 3,
     "metadata": {},
     "output_type": "execute_result"
    }
   ],
   "source": [
    "df.head()"
   ]
  },
  {
   "cell_type": "code",
   "execution_count": 4,
   "id": "c60733f0",
   "metadata": {},
   "outputs": [
    {
     "data": {
      "text/plain": [
       "(1567, 592)"
      ]
     },
     "execution_count": 4,
     "metadata": {},
     "output_type": "execute_result"
    }
   ],
   "source": [
    "df.shape"
   ]
  },
  {
   "cell_type": "code",
   "execution_count": 5,
   "id": "4ea50644",
   "metadata": {},
   "outputs": [
    {
     "name": "stdout",
     "output_type": "stream",
     "text": [
      "<class 'pandas.core.frame.DataFrame'>\n",
      "RangeIndex: 1567 entries, 0 to 1566\n",
      "Columns: 592 entries, Time to Pass/Fail\n",
      "dtypes: float64(590), int64(1), object(1)\n",
      "memory usage: 7.1+ MB\n"
     ]
    }
   ],
   "source": [
    "df.info()"
   ]
  },
  {
   "cell_type": "code",
   "execution_count": 6,
   "id": "f6998a74",
   "metadata": {},
   "outputs": [
    {
     "data": {
      "text/html": [
       "<div>\n",
       "<style scoped>\n",
       "    .dataframe tbody tr th:only-of-type {\n",
       "        vertical-align: middle;\n",
       "    }\n",
       "\n",
       "    .dataframe tbody tr th {\n",
       "        vertical-align: top;\n",
       "    }\n",
       "\n",
       "    .dataframe thead th {\n",
       "        text-align: right;\n",
       "    }\n",
       "</style>\n",
       "<table border=\"1\" class=\"dataframe\">\n",
       "  <thead>\n",
       "    <tr style=\"text-align: right;\">\n",
       "      <th></th>\n",
       "      <th>0</th>\n",
       "      <th>1</th>\n",
       "      <th>2</th>\n",
       "      <th>3</th>\n",
       "      <th>4</th>\n",
       "      <th>5</th>\n",
       "      <th>6</th>\n",
       "      <th>7</th>\n",
       "      <th>8</th>\n",
       "      <th>9</th>\n",
       "      <th>...</th>\n",
       "      <th>581</th>\n",
       "      <th>582</th>\n",
       "      <th>583</th>\n",
       "      <th>584</th>\n",
       "      <th>585</th>\n",
       "      <th>586</th>\n",
       "      <th>587</th>\n",
       "      <th>588</th>\n",
       "      <th>589</th>\n",
       "      <th>Pass/Fail</th>\n",
       "    </tr>\n",
       "  </thead>\n",
       "  <tbody>\n",
       "    <tr>\n",
       "      <th>count</th>\n",
       "      <td>1561.000000</td>\n",
       "      <td>1560.000000</td>\n",
       "      <td>1553.000000</td>\n",
       "      <td>1553.000000</td>\n",
       "      <td>1553.000000</td>\n",
       "      <td>1553.0</td>\n",
       "      <td>1553.000000</td>\n",
       "      <td>1558.000000</td>\n",
       "      <td>1565.000000</td>\n",
       "      <td>1565.000000</td>\n",
       "      <td>...</td>\n",
       "      <td>618.000000</td>\n",
       "      <td>1566.000000</td>\n",
       "      <td>1566.000000</td>\n",
       "      <td>1566.000000</td>\n",
       "      <td>1566.000000</td>\n",
       "      <td>1566.000000</td>\n",
       "      <td>1566.000000</td>\n",
       "      <td>1566.000000</td>\n",
       "      <td>1566.000000</td>\n",
       "      <td>1567.000000</td>\n",
       "    </tr>\n",
       "    <tr>\n",
       "      <th>mean</th>\n",
       "      <td>3014.452896</td>\n",
       "      <td>2495.850231</td>\n",
       "      <td>2200.547318</td>\n",
       "      <td>1396.376627</td>\n",
       "      <td>4.197013</td>\n",
       "      <td>100.0</td>\n",
       "      <td>101.112908</td>\n",
       "      <td>0.121822</td>\n",
       "      <td>1.462862</td>\n",
       "      <td>-0.000841</td>\n",
       "      <td>...</td>\n",
       "      <td>97.934373</td>\n",
       "      <td>0.500096</td>\n",
       "      <td>0.015318</td>\n",
       "      <td>0.003847</td>\n",
       "      <td>3.067826</td>\n",
       "      <td>0.021458</td>\n",
       "      <td>0.016475</td>\n",
       "      <td>0.005283</td>\n",
       "      <td>99.670066</td>\n",
       "      <td>-0.867262</td>\n",
       "    </tr>\n",
       "    <tr>\n",
       "      <th>std</th>\n",
       "      <td>73.621787</td>\n",
       "      <td>80.407705</td>\n",
       "      <td>29.513152</td>\n",
       "      <td>441.691640</td>\n",
       "      <td>56.355540</td>\n",
       "      <td>0.0</td>\n",
       "      <td>6.237214</td>\n",
       "      <td>0.008961</td>\n",
       "      <td>0.073897</td>\n",
       "      <td>0.015116</td>\n",
       "      <td>...</td>\n",
       "      <td>87.520966</td>\n",
       "      <td>0.003404</td>\n",
       "      <td>0.017180</td>\n",
       "      <td>0.003720</td>\n",
       "      <td>3.578033</td>\n",
       "      <td>0.012358</td>\n",
       "      <td>0.008808</td>\n",
       "      <td>0.002867</td>\n",
       "      <td>93.891919</td>\n",
       "      <td>0.498010</td>\n",
       "    </tr>\n",
       "    <tr>\n",
       "      <th>min</th>\n",
       "      <td>2743.240000</td>\n",
       "      <td>2158.750000</td>\n",
       "      <td>2060.660000</td>\n",
       "      <td>0.000000</td>\n",
       "      <td>0.681500</td>\n",
       "      <td>100.0</td>\n",
       "      <td>82.131100</td>\n",
       "      <td>0.000000</td>\n",
       "      <td>1.191000</td>\n",
       "      <td>-0.053400</td>\n",
       "      <td>...</td>\n",
       "      <td>0.000000</td>\n",
       "      <td>0.477800</td>\n",
       "      <td>0.006000</td>\n",
       "      <td>0.001700</td>\n",
       "      <td>1.197500</td>\n",
       "      <td>-0.016900</td>\n",
       "      <td>0.003200</td>\n",
       "      <td>0.001000</td>\n",
       "      <td>0.000000</td>\n",
       "      <td>-1.000000</td>\n",
       "    </tr>\n",
       "    <tr>\n",
       "      <th>25%</th>\n",
       "      <td>2966.260000</td>\n",
       "      <td>2452.247500</td>\n",
       "      <td>2181.044400</td>\n",
       "      <td>1081.875800</td>\n",
       "      <td>1.017700</td>\n",
       "      <td>100.0</td>\n",
       "      <td>97.920000</td>\n",
       "      <td>0.121100</td>\n",
       "      <td>1.411200</td>\n",
       "      <td>-0.010800</td>\n",
       "      <td>...</td>\n",
       "      <td>46.184900</td>\n",
       "      <td>0.497900</td>\n",
       "      <td>0.011600</td>\n",
       "      <td>0.003100</td>\n",
       "      <td>2.306500</td>\n",
       "      <td>0.013425</td>\n",
       "      <td>0.010600</td>\n",
       "      <td>0.003300</td>\n",
       "      <td>44.368600</td>\n",
       "      <td>-1.000000</td>\n",
       "    </tr>\n",
       "    <tr>\n",
       "      <th>50%</th>\n",
       "      <td>3011.490000</td>\n",
       "      <td>2499.405000</td>\n",
       "      <td>2201.066700</td>\n",
       "      <td>1285.214400</td>\n",
       "      <td>1.316800</td>\n",
       "      <td>100.0</td>\n",
       "      <td>101.512200</td>\n",
       "      <td>0.122400</td>\n",
       "      <td>1.461600</td>\n",
       "      <td>-0.001300</td>\n",
       "      <td>...</td>\n",
       "      <td>72.288900</td>\n",
       "      <td>0.500200</td>\n",
       "      <td>0.013800</td>\n",
       "      <td>0.003600</td>\n",
       "      <td>2.757650</td>\n",
       "      <td>0.020500</td>\n",
       "      <td>0.014800</td>\n",
       "      <td>0.004600</td>\n",
       "      <td>71.900500</td>\n",
       "      <td>-1.000000</td>\n",
       "    </tr>\n",
       "    <tr>\n",
       "      <th>75%</th>\n",
       "      <td>3056.650000</td>\n",
       "      <td>2538.822500</td>\n",
       "      <td>2218.055500</td>\n",
       "      <td>1591.223500</td>\n",
       "      <td>1.525700</td>\n",
       "      <td>100.0</td>\n",
       "      <td>104.586700</td>\n",
       "      <td>0.123800</td>\n",
       "      <td>1.516900</td>\n",
       "      <td>0.008400</td>\n",
       "      <td>...</td>\n",
       "      <td>116.539150</td>\n",
       "      <td>0.502375</td>\n",
       "      <td>0.016500</td>\n",
       "      <td>0.004100</td>\n",
       "      <td>3.295175</td>\n",
       "      <td>0.027600</td>\n",
       "      <td>0.020300</td>\n",
       "      <td>0.006400</td>\n",
       "      <td>114.749700</td>\n",
       "      <td>-1.000000</td>\n",
       "    </tr>\n",
       "    <tr>\n",
       "      <th>max</th>\n",
       "      <td>3356.350000</td>\n",
       "      <td>2846.440000</td>\n",
       "      <td>2315.266700</td>\n",
       "      <td>3715.041700</td>\n",
       "      <td>1114.536600</td>\n",
       "      <td>100.0</td>\n",
       "      <td>129.252200</td>\n",
       "      <td>0.128600</td>\n",
       "      <td>1.656400</td>\n",
       "      <td>0.074900</td>\n",
       "      <td>...</td>\n",
       "      <td>737.304800</td>\n",
       "      <td>0.509800</td>\n",
       "      <td>0.476600</td>\n",
       "      <td>0.104500</td>\n",
       "      <td>99.303200</td>\n",
       "      <td>0.102800</td>\n",
       "      <td>0.079900</td>\n",
       "      <td>0.028600</td>\n",
       "      <td>737.304800</td>\n",
       "      <td>1.000000</td>\n",
       "    </tr>\n",
       "  </tbody>\n",
       "</table>\n",
       "<p>8 rows × 591 columns</p>\n",
       "</div>"
      ],
      "text/plain": [
       "                 0            1            2            3            4  \\\n",
       "count  1561.000000  1560.000000  1553.000000  1553.000000  1553.000000   \n",
       "mean   3014.452896  2495.850231  2200.547318  1396.376627     4.197013   \n",
       "std      73.621787    80.407705    29.513152   441.691640    56.355540   \n",
       "min    2743.240000  2158.750000  2060.660000     0.000000     0.681500   \n",
       "25%    2966.260000  2452.247500  2181.044400  1081.875800     1.017700   \n",
       "50%    3011.490000  2499.405000  2201.066700  1285.214400     1.316800   \n",
       "75%    3056.650000  2538.822500  2218.055500  1591.223500     1.525700   \n",
       "max    3356.350000  2846.440000  2315.266700  3715.041700  1114.536600   \n",
       "\n",
       "            5            6            7            8            9  ...  \\\n",
       "count  1553.0  1553.000000  1558.000000  1565.000000  1565.000000  ...   \n",
       "mean    100.0   101.112908     0.121822     1.462862    -0.000841  ...   \n",
       "std       0.0     6.237214     0.008961     0.073897     0.015116  ...   \n",
       "min     100.0    82.131100     0.000000     1.191000    -0.053400  ...   \n",
       "25%     100.0    97.920000     0.121100     1.411200    -0.010800  ...   \n",
       "50%     100.0   101.512200     0.122400     1.461600    -0.001300  ...   \n",
       "75%     100.0   104.586700     0.123800     1.516900     0.008400  ...   \n",
       "max     100.0   129.252200     0.128600     1.656400     0.074900  ...   \n",
       "\n",
       "              581          582          583          584          585  \\\n",
       "count  618.000000  1566.000000  1566.000000  1566.000000  1566.000000   \n",
       "mean    97.934373     0.500096     0.015318     0.003847     3.067826   \n",
       "std     87.520966     0.003404     0.017180     0.003720     3.578033   \n",
       "min      0.000000     0.477800     0.006000     0.001700     1.197500   \n",
       "25%     46.184900     0.497900     0.011600     0.003100     2.306500   \n",
       "50%     72.288900     0.500200     0.013800     0.003600     2.757650   \n",
       "75%    116.539150     0.502375     0.016500     0.004100     3.295175   \n",
       "max    737.304800     0.509800     0.476600     0.104500    99.303200   \n",
       "\n",
       "               586          587          588          589    Pass/Fail  \n",
       "count  1566.000000  1566.000000  1566.000000  1566.000000  1567.000000  \n",
       "mean      0.021458     0.016475     0.005283    99.670066    -0.867262  \n",
       "std       0.012358     0.008808     0.002867    93.891919     0.498010  \n",
       "min      -0.016900     0.003200     0.001000     0.000000    -1.000000  \n",
       "25%       0.013425     0.010600     0.003300    44.368600    -1.000000  \n",
       "50%       0.020500     0.014800     0.004600    71.900500    -1.000000  \n",
       "75%       0.027600     0.020300     0.006400   114.749700    -1.000000  \n",
       "max       0.102800     0.079900     0.028600   737.304800     1.000000  \n",
       "\n",
       "[8 rows x 591 columns]"
      ]
     },
     "execution_count": 6,
     "metadata": {},
     "output_type": "execute_result"
    }
   ],
   "source": [
    "df.describe()"
   ]
  },
  {
   "cell_type": "code",
   "execution_count": 7,
   "id": "319f3174",
   "metadata": {},
   "outputs": [
    {
     "data": {
      "text/plain": [
       "Time       0\n",
       "360        0\n",
       "359        0\n",
       "291        0\n",
       "255        0\n",
       "        ... \n",
       "85      1341\n",
       "158     1429\n",
       "293     1429\n",
       "292     1429\n",
       "157     1429\n",
       "Length: 592, dtype: int64"
      ]
     },
     "execution_count": 7,
     "metadata": {},
     "output_type": "execute_result"
    }
   ],
   "source": [
    "df.isnull().sum().sort_values()"
   ]
  },
  {
   "cell_type": "code",
   "execution_count": 8,
   "id": "53394ef9",
   "metadata": {},
   "outputs": [
    {
     "data": {
      "text/plain": [
       "2"
      ]
     },
     "execution_count": 8,
     "metadata": {},
     "output_type": "execute_result"
    }
   ],
   "source": [
    "df['Pass/Fail'].nunique()"
   ]
  },
  {
   "cell_type": "code",
   "execution_count": 9,
   "id": "76be5cd4",
   "metadata": {},
   "outputs": [],
   "source": [
    "#drop columns with >50% null values\n",
    "min_count=df.shape[0]//2+1\n",
    "df=df.dropna(axis=1,thresh=min_count)"
   ]
  },
  {
   "cell_type": "code",
   "execution_count": 10,
   "id": "115c1a84",
   "metadata": {},
   "outputs": [
    {
     "data": {
      "text/plain": [
       "(1567, 564)"
      ]
     },
     "execution_count": 10,
     "metadata": {},
     "output_type": "execute_result"
    }
   ],
   "source": [
    "df.shape"
   ]
  },
  {
   "cell_type": "code",
   "execution_count": 11,
   "id": "b6e0fc65",
   "metadata": {},
   "outputs": [],
   "source": [
    "#drop 0 variance columns\n",
    "def drop_constants(df):\n",
    "    \"\"\"iterate through columns and remove columns with constant values (all same)\"\"\"\n",
    "    for col in df.columns:\n",
    "        # drop col if unique values is 1\n",
    "        if df[col].nunique() == 1:\n",
    "            del df[col]\n",
    "    return df"
   ]
  },
  {
   "cell_type": "code",
   "execution_count": 12,
   "id": "bed66c01",
   "metadata": {},
   "outputs": [],
   "source": [
    "df=drop_constants(df)"
   ]
  },
  {
   "cell_type": "code",
   "execution_count": 13,
   "id": "74dcfc5b",
   "metadata": {},
   "outputs": [
    {
     "data": {
      "text/plain": [
       "(1567, 448)"
      ]
     },
     "execution_count": 13,
     "metadata": {},
     "output_type": "execute_result"
    }
   ],
   "source": [
    "df.shape"
   ]
  },
  {
   "cell_type": "code",
   "execution_count": 14,
   "id": "088aaaec",
   "metadata": {
    "scrolled": true
   },
   "outputs": [
    {
     "data": {
      "text/plain": [
       "-1    1463\n",
       " 1     104\n",
       "Name: Pass/Fail, dtype: int64"
      ]
     },
     "execution_count": 14,
     "metadata": {},
     "output_type": "execute_result"
    }
   ],
   "source": [
    "df['Pass/Fail'].value_counts()"
   ]
  },
  {
   "cell_type": "code",
   "execution_count": 15,
   "id": "98d70d20",
   "metadata": {},
   "outputs": [],
   "source": [
    "df['Pass/Fail']=df['Pass/Fail'].replace(-1,0).astype(int)"
   ]
  },
  {
   "cell_type": "code",
   "execution_count": 16,
   "id": "5a115cb3",
   "metadata": {},
   "outputs": [
    {
     "data": {
      "text/plain": [
       "0    1463\n",
       "1     104\n",
       "Name: Pass/Fail, dtype: int64"
      ]
     },
     "execution_count": 16,
     "metadata": {},
     "output_type": "execute_result"
    }
   ],
   "source": [
    "df['Pass/Fail'].value_counts()"
   ]
  },
  {
   "cell_type": "markdown",
   "id": "d8bd19a1",
   "metadata": {},
   "source": [
    "### Preprocessing: \n",
    "#### 1. Use boruta to do feature selection\n",
    "#### 2. split data\n",
    "#### 3. Perform over-sampling using SMOTE\n"
   ]
  },
  {
   "cell_type": "markdown",
   "id": "5fbd7b7a",
   "metadata": {},
   "source": [
    "### boruta"
   ]
  },
  {
   "cell_type": "code",
   "execution_count": 17,
   "id": "3d101549",
   "metadata": {
    "scrolled": true
   },
   "outputs": [
    {
     "name": "stdout",
     "output_type": "stream",
     "text": [
      "shape of X: (1567, 446)\n",
      "shape of y: (1567,)\n",
      "Index(['0', '1', '2', '3', '4', '6', '7', '8', '9', '10',\n",
      "       ...\n",
      "       '576', '577', '582', '583', '584', '585', '586', '587', '588', '589'],\n",
      "      dtype='object', length=446)\n"
     ]
    }
   ],
   "source": [
    "from sklearn.model_selection import train_test_split\n",
    "X1=df.drop(['Time','Pass/Fail'],axis=1)\n",
    "y=df['Pass/Fail']\n",
    "print('shape of X:',X1.shape)\n",
    "print('shape of y:',y.shape)\n",
    "print(X1.columns)"
   ]
  },
  {
   "cell_type": "code",
   "execution_count": 18,
   "id": "a71b0c6a",
   "metadata": {},
   "outputs": [],
   "source": [
    "#fill null values\n",
    "from sklearn.impute import KNNImputer\n",
    "imputer = KNNImputer(n_neighbors=5, weights='uniform')\n",
    "X=imputer.fit_transform(X1)\n",
    "X=pd.DataFrame(X,columns=X1.columns)\n"
   ]
  },
  {
   "cell_type": "code",
   "execution_count": 19,
   "id": "0f0aa837",
   "metadata": {},
   "outputs": [
    {
     "data": {
      "text/html": [
       "<div>\n",
       "<style scoped>\n",
       "    .dataframe tbody tr th:only-of-type {\n",
       "        vertical-align: middle;\n",
       "    }\n",
       "\n",
       "    .dataframe tbody tr th {\n",
       "        vertical-align: top;\n",
       "    }\n",
       "\n",
       "    .dataframe thead th {\n",
       "        text-align: right;\n",
       "    }\n",
       "</style>\n",
       "<table border=\"1\" class=\"dataframe\">\n",
       "  <thead>\n",
       "    <tr style=\"text-align: right;\">\n",
       "      <th></th>\n",
       "      <th>0</th>\n",
       "      <th>1</th>\n",
       "      <th>2</th>\n",
       "      <th>3</th>\n",
       "      <th>4</th>\n",
       "      <th>6</th>\n",
       "      <th>7</th>\n",
       "      <th>8</th>\n",
       "      <th>9</th>\n",
       "      <th>10</th>\n",
       "      <th>...</th>\n",
       "      <th>576</th>\n",
       "      <th>577</th>\n",
       "      <th>582</th>\n",
       "      <th>583</th>\n",
       "      <th>584</th>\n",
       "      <th>585</th>\n",
       "      <th>586</th>\n",
       "      <th>587</th>\n",
       "      <th>588</th>\n",
       "      <th>589</th>\n",
       "    </tr>\n",
       "  </thead>\n",
       "  <tbody>\n",
       "    <tr>\n",
       "      <th>0</th>\n",
       "      <td>3030.93</td>\n",
       "      <td>2564.00</td>\n",
       "      <td>2187.7333</td>\n",
       "      <td>1411.1265</td>\n",
       "      <td>1.3602</td>\n",
       "      <td>97.6133</td>\n",
       "      <td>0.1242</td>\n",
       "      <td>1.5005</td>\n",
       "      <td>0.0162</td>\n",
       "      <td>-0.0034</td>\n",
       "      <td>...</td>\n",
       "      <td>1.6765</td>\n",
       "      <td>14.9509</td>\n",
       "      <td>0.5005</td>\n",
       "      <td>0.0118</td>\n",
       "      <td>0.0035</td>\n",
       "      <td>2.3630</td>\n",
       "      <td>0.01942</td>\n",
       "      <td>0.01266</td>\n",
       "      <td>0.00438</td>\n",
       "      <td>65.5742</td>\n",
       "    </tr>\n",
       "    <tr>\n",
       "      <th>1</th>\n",
       "      <td>3095.78</td>\n",
       "      <td>2465.14</td>\n",
       "      <td>2230.4222</td>\n",
       "      <td>1463.6606</td>\n",
       "      <td>0.8294</td>\n",
       "      <td>102.3433</td>\n",
       "      <td>0.1247</td>\n",
       "      <td>1.4966</td>\n",
       "      <td>-0.0005</td>\n",
       "      <td>-0.0148</td>\n",
       "      <td>...</td>\n",
       "      <td>1.1065</td>\n",
       "      <td>10.9003</td>\n",
       "      <td>0.5019</td>\n",
       "      <td>0.0223</td>\n",
       "      <td>0.0055</td>\n",
       "      <td>4.4447</td>\n",
       "      <td>0.00960</td>\n",
       "      <td>0.02010</td>\n",
       "      <td>0.00600</td>\n",
       "      <td>208.2045</td>\n",
       "    </tr>\n",
       "    <tr>\n",
       "      <th>2</th>\n",
       "      <td>2932.61</td>\n",
       "      <td>2559.94</td>\n",
       "      <td>2186.4111</td>\n",
       "      <td>1698.0172</td>\n",
       "      <td>1.5102</td>\n",
       "      <td>95.4878</td>\n",
       "      <td>0.1241</td>\n",
       "      <td>1.4436</td>\n",
       "      <td>0.0041</td>\n",
       "      <td>0.0013</td>\n",
       "      <td>...</td>\n",
       "      <td>2.0952</td>\n",
       "      <td>9.2721</td>\n",
       "      <td>0.4958</td>\n",
       "      <td>0.0157</td>\n",
       "      <td>0.0039</td>\n",
       "      <td>3.1745</td>\n",
       "      <td>0.05840</td>\n",
       "      <td>0.04840</td>\n",
       "      <td>0.01480</td>\n",
       "      <td>82.8602</td>\n",
       "    </tr>\n",
       "    <tr>\n",
       "      <th>3</th>\n",
       "      <td>2988.72</td>\n",
       "      <td>2479.90</td>\n",
       "      <td>2199.0333</td>\n",
       "      <td>909.7926</td>\n",
       "      <td>1.3204</td>\n",
       "      <td>104.2367</td>\n",
       "      <td>0.1217</td>\n",
       "      <td>1.4882</td>\n",
       "      <td>-0.0124</td>\n",
       "      <td>-0.0033</td>\n",
       "      <td>...</td>\n",
       "      <td>1.7585</td>\n",
       "      <td>8.5831</td>\n",
       "      <td>0.4990</td>\n",
       "      <td>0.0103</td>\n",
       "      <td>0.0025</td>\n",
       "      <td>2.0544</td>\n",
       "      <td>0.02020</td>\n",
       "      <td>0.01490</td>\n",
       "      <td>0.00440</td>\n",
       "      <td>73.8432</td>\n",
       "    </tr>\n",
       "    <tr>\n",
       "      <th>4</th>\n",
       "      <td>3032.24</td>\n",
       "      <td>2502.87</td>\n",
       "      <td>2233.3667</td>\n",
       "      <td>1326.5200</td>\n",
       "      <td>1.5334</td>\n",
       "      <td>100.3967</td>\n",
       "      <td>0.1235</td>\n",
       "      <td>1.5031</td>\n",
       "      <td>-0.0031</td>\n",
       "      <td>-0.0072</td>\n",
       "      <td>...</td>\n",
       "      <td>1.6597</td>\n",
       "      <td>10.9698</td>\n",
       "      <td>0.4800</td>\n",
       "      <td>0.4766</td>\n",
       "      <td>0.1045</td>\n",
       "      <td>99.3032</td>\n",
       "      <td>0.02020</td>\n",
       "      <td>0.01490</td>\n",
       "      <td>0.00440</td>\n",
       "      <td>73.8432</td>\n",
       "    </tr>\n",
       "  </tbody>\n",
       "</table>\n",
       "<p>5 rows × 446 columns</p>\n",
       "</div>"
      ],
      "text/plain": [
       "         0        1          2          3       4         6       7       8  \\\n",
       "0  3030.93  2564.00  2187.7333  1411.1265  1.3602   97.6133  0.1242  1.5005   \n",
       "1  3095.78  2465.14  2230.4222  1463.6606  0.8294  102.3433  0.1247  1.4966   \n",
       "2  2932.61  2559.94  2186.4111  1698.0172  1.5102   95.4878  0.1241  1.4436   \n",
       "3  2988.72  2479.90  2199.0333   909.7926  1.3204  104.2367  0.1217  1.4882   \n",
       "4  3032.24  2502.87  2233.3667  1326.5200  1.5334  100.3967  0.1235  1.5031   \n",
       "\n",
       "        9      10  ...     576      577     582     583     584      585  \\\n",
       "0  0.0162 -0.0034  ...  1.6765  14.9509  0.5005  0.0118  0.0035   2.3630   \n",
       "1 -0.0005 -0.0148  ...  1.1065  10.9003  0.5019  0.0223  0.0055   4.4447   \n",
       "2  0.0041  0.0013  ...  2.0952   9.2721  0.4958  0.0157  0.0039   3.1745   \n",
       "3 -0.0124 -0.0033  ...  1.7585   8.5831  0.4990  0.0103  0.0025   2.0544   \n",
       "4 -0.0031 -0.0072  ...  1.6597  10.9698  0.4800  0.4766  0.1045  99.3032   \n",
       "\n",
       "       586      587      588       589  \n",
       "0  0.01942  0.01266  0.00438   65.5742  \n",
       "1  0.00960  0.02010  0.00600  208.2045  \n",
       "2  0.05840  0.04840  0.01480   82.8602  \n",
       "3  0.02020  0.01490  0.00440   73.8432  \n",
       "4  0.02020  0.01490  0.00440   73.8432  \n",
       "\n",
       "[5 rows x 446 columns]"
      ]
     },
     "execution_count": 19,
     "metadata": {},
     "output_type": "execute_result"
    }
   ],
   "source": [
    "X.head()"
   ]
  },
  {
   "cell_type": "code",
   "execution_count": 20,
   "id": "3d1e67e2",
   "metadata": {},
   "outputs": [
    {
     "data": {
      "text/plain": [
       "False"
      ]
     },
     "execution_count": 20,
     "metadata": {},
     "output_type": "execute_result"
    }
   ],
   "source": [
    "X.isnull().any().any()"
   ]
  },
  {
   "cell_type": "code",
   "execution_count": 24,
   "id": "c9b34f00",
   "metadata": {},
   "outputs": [],
   "source": [
    "from boruta import BorutaPy\n",
    "from sklearn.ensemble import RandomForestClassifier\n"
   ]
  },
  {
   "cell_type": "code",
   "execution_count": 25,
   "id": "62f72ef8",
   "metadata": {},
   "outputs": [],
   "source": [
    "X_boruta=X.values\n",
    "y_boruta=y.values"
   ]
  },
  {
   "cell_type": "code",
   "execution_count": 26,
   "id": "53ecf5ea",
   "metadata": {},
   "outputs": [
    {
     "name": "stdout",
     "output_type": "stream",
     "text": [
      "Iteration: \t1 / 100\n",
      "Confirmed: \t0\n",
      "Tentative: \t446\n",
      "Rejected: \t0\n",
      "Iteration: \t2 / 100\n",
      "Confirmed: \t0\n",
      "Tentative: \t446\n",
      "Rejected: \t0\n",
      "Iteration: \t3 / 100\n",
      "Confirmed: \t0\n",
      "Tentative: \t446\n",
      "Rejected: \t0\n",
      "Iteration: \t4 / 100\n",
      "Confirmed: \t0\n",
      "Tentative: \t446\n",
      "Rejected: \t0\n",
      "Iteration: \t5 / 100\n",
      "Confirmed: \t0\n",
      "Tentative: \t446\n",
      "Rejected: \t0\n",
      "Iteration: \t6 / 100\n",
      "Confirmed: \t0\n",
      "Tentative: \t446\n",
      "Rejected: \t0\n",
      "Iteration: \t7 / 100\n",
      "Confirmed: \t0\n",
      "Tentative: \t446\n",
      "Rejected: \t0\n",
      "Iteration: \t8 / 100\n",
      "Confirmed: \t0\n",
      "Tentative: \t12\n",
      "Rejected: \t434\n",
      "Iteration: \t9 / 100\n",
      "Confirmed: \t3\n",
      "Tentative: \t9\n",
      "Rejected: \t434\n",
      "Iteration: \t10 / 100\n",
      "Confirmed: \t3\n",
      "Tentative: \t9\n",
      "Rejected: \t434\n",
      "Iteration: \t11 / 100\n",
      "Confirmed: \t3\n",
      "Tentative: \t9\n",
      "Rejected: \t434\n",
      "Iteration: \t12 / 100\n",
      "Confirmed: \t3\n",
      "Tentative: \t9\n",
      "Rejected: \t434\n",
      "Iteration: \t13 / 100\n",
      "Confirmed: \t3\n",
      "Tentative: \t9\n",
      "Rejected: \t434\n",
      "Iteration: \t14 / 100\n",
      "Confirmed: \t3\n",
      "Tentative: \t9\n",
      "Rejected: \t434\n",
      "Iteration: \t15 / 100\n",
      "Confirmed: \t3\n",
      "Tentative: \t9\n",
      "Rejected: \t434\n",
      "Iteration: \t16 / 100\n",
      "Confirmed: \t4\n",
      "Tentative: \t8\n",
      "Rejected: \t434\n",
      "Iteration: \t17 / 100\n",
      "Confirmed: \t4\n",
      "Tentative: \t8\n",
      "Rejected: \t434\n",
      "Iteration: \t18 / 100\n",
      "Confirmed: \t4\n",
      "Tentative: \t8\n",
      "Rejected: \t434\n",
      "Iteration: \t19 / 100\n",
      "Confirmed: \t4\n",
      "Tentative: \t8\n",
      "Rejected: \t434\n",
      "Iteration: \t20 / 100\n",
      "Confirmed: \t4\n",
      "Tentative: \t8\n",
      "Rejected: \t434\n",
      "Iteration: \t21 / 100\n",
      "Confirmed: \t4\n",
      "Tentative: \t8\n",
      "Rejected: \t434\n",
      "Iteration: \t22 / 100\n",
      "Confirmed: \t4\n",
      "Tentative: \t8\n",
      "Rejected: \t434\n",
      "Iteration: \t23 / 100\n",
      "Confirmed: \t4\n",
      "Tentative: \t8\n",
      "Rejected: \t434\n",
      "Iteration: \t24 / 100\n",
      "Confirmed: \t4\n",
      "Tentative: \t8\n",
      "Rejected: \t434\n",
      "Iteration: \t25 / 100\n",
      "Confirmed: \t4\n",
      "Tentative: \t8\n",
      "Rejected: \t434\n",
      "Iteration: \t26 / 100\n",
      "Confirmed: \t4\n",
      "Tentative: \t8\n",
      "Rejected: \t434\n",
      "Iteration: \t27 / 100\n",
      "Confirmed: \t4\n",
      "Tentative: \t8\n",
      "Rejected: \t434\n",
      "Iteration: \t28 / 100\n",
      "Confirmed: \t4\n",
      "Tentative: \t8\n",
      "Rejected: \t434\n",
      "Iteration: \t29 / 100\n",
      "Confirmed: \t4\n",
      "Tentative: \t8\n",
      "Rejected: \t434\n",
      "Iteration: \t30 / 100\n",
      "Confirmed: \t4\n",
      "Tentative: \t8\n",
      "Rejected: \t434\n",
      "Iteration: \t31 / 100\n",
      "Confirmed: \t4\n",
      "Tentative: \t8\n",
      "Rejected: \t434\n",
      "Iteration: \t32 / 100\n",
      "Confirmed: \t5\n",
      "Tentative: \t7\n",
      "Rejected: \t434\n",
      "Iteration: \t33 / 100\n",
      "Confirmed: \t5\n",
      "Tentative: \t7\n",
      "Rejected: \t434\n",
      "Iteration: \t34 / 100\n",
      "Confirmed: \t6\n",
      "Tentative: \t6\n",
      "Rejected: \t434\n",
      "Iteration: \t35 / 100\n",
      "Confirmed: \t6\n",
      "Tentative: \t6\n",
      "Rejected: \t434\n",
      "Iteration: \t36 / 100\n",
      "Confirmed: \t6\n",
      "Tentative: \t6\n",
      "Rejected: \t434\n",
      "Iteration: \t37 / 100\n",
      "Confirmed: \t6\n",
      "Tentative: \t6\n",
      "Rejected: \t434\n",
      "Iteration: \t38 / 100\n",
      "Confirmed: \t6\n",
      "Tentative: \t6\n",
      "Rejected: \t434\n",
      "Iteration: \t39 / 100\n",
      "Confirmed: \t6\n",
      "Tentative: \t6\n",
      "Rejected: \t434\n",
      "Iteration: \t40 / 100\n",
      "Confirmed: \t6\n",
      "Tentative: \t6\n",
      "Rejected: \t434\n",
      "Iteration: \t41 / 100\n",
      "Confirmed: \t6\n",
      "Tentative: \t6\n",
      "Rejected: \t434\n",
      "Iteration: \t42 / 100\n",
      "Confirmed: \t6\n",
      "Tentative: \t6\n",
      "Rejected: \t434\n",
      "Iteration: \t43 / 100\n",
      "Confirmed: \t6\n",
      "Tentative: \t6\n",
      "Rejected: \t434\n",
      "Iteration: \t44 / 100\n",
      "Confirmed: \t6\n",
      "Tentative: \t6\n",
      "Rejected: \t434\n",
      "Iteration: \t45 / 100\n",
      "Confirmed: \t6\n",
      "Tentative: \t6\n",
      "Rejected: \t434\n",
      "Iteration: \t46 / 100\n",
      "Confirmed: \t6\n",
      "Tentative: \t6\n",
      "Rejected: \t434\n",
      "Iteration: \t47 / 100\n",
      "Confirmed: \t6\n",
      "Tentative: \t6\n",
      "Rejected: \t434\n",
      "Iteration: \t48 / 100\n",
      "Confirmed: \t6\n",
      "Tentative: \t6\n",
      "Rejected: \t434\n",
      "Iteration: \t49 / 100\n",
      "Confirmed: \t6\n",
      "Tentative: \t6\n",
      "Rejected: \t434\n",
      "Iteration: \t50 / 100\n",
      "Confirmed: \t6\n",
      "Tentative: \t6\n",
      "Rejected: \t434\n",
      "Iteration: \t51 / 100\n",
      "Confirmed: \t6\n",
      "Tentative: \t6\n",
      "Rejected: \t434\n",
      "Iteration: \t52 / 100\n",
      "Confirmed: \t6\n",
      "Tentative: \t6\n",
      "Rejected: \t434\n",
      "Iteration: \t53 / 100\n",
      "Confirmed: \t6\n",
      "Tentative: \t6\n",
      "Rejected: \t434\n",
      "Iteration: \t54 / 100\n",
      "Confirmed: \t6\n",
      "Tentative: \t6\n",
      "Rejected: \t434\n",
      "Iteration: \t55 / 100\n",
      "Confirmed: \t6\n",
      "Tentative: \t6\n",
      "Rejected: \t434\n",
      "Iteration: \t56 / 100\n",
      "Confirmed: \t6\n",
      "Tentative: \t6\n",
      "Rejected: \t434\n",
      "Iteration: \t57 / 100\n",
      "Confirmed: \t6\n",
      "Tentative: \t6\n",
      "Rejected: \t434\n",
      "Iteration: \t58 / 100\n",
      "Confirmed: \t6\n",
      "Tentative: \t6\n",
      "Rejected: \t434\n",
      "Iteration: \t59 / 100\n",
      "Confirmed: \t6\n",
      "Tentative: \t6\n",
      "Rejected: \t434\n",
      "Iteration: \t60 / 100\n",
      "Confirmed: \t6\n",
      "Tentative: \t6\n",
      "Rejected: \t434\n",
      "Iteration: \t61 / 100\n",
      "Confirmed: \t6\n",
      "Tentative: \t6\n",
      "Rejected: \t434\n",
      "Iteration: \t62 / 100\n",
      "Confirmed: \t6\n",
      "Tentative: \t6\n",
      "Rejected: \t434\n",
      "Iteration: \t63 / 100\n",
      "Confirmed: \t6\n",
      "Tentative: \t6\n",
      "Rejected: \t434\n",
      "Iteration: \t64 / 100\n",
      "Confirmed: \t6\n",
      "Tentative: \t6\n",
      "Rejected: \t434\n",
      "Iteration: \t65 / 100\n",
      "Confirmed: \t6\n",
      "Tentative: \t6\n",
      "Rejected: \t434\n",
      "Iteration: \t66 / 100\n",
      "Confirmed: \t6\n",
      "Tentative: \t6\n",
      "Rejected: \t434\n",
      "Iteration: \t67 / 100\n",
      "Confirmed: \t6\n",
      "Tentative: \t6\n",
      "Rejected: \t434\n",
      "Iteration: \t68 / 100\n",
      "Confirmed: \t6\n",
      "Tentative: \t6\n",
      "Rejected: \t434\n",
      "Iteration: \t69 / 100\n",
      "Confirmed: \t6\n",
      "Tentative: \t6\n",
      "Rejected: \t434\n",
      "Iteration: \t70 / 100\n",
      "Confirmed: \t6\n",
      "Tentative: \t6\n",
      "Rejected: \t434\n",
      "Iteration: \t71 / 100\n",
      "Confirmed: \t6\n",
      "Tentative: \t6\n",
      "Rejected: \t434\n",
      "Iteration: \t72 / 100\n",
      "Confirmed: \t6\n",
      "Tentative: \t6\n",
      "Rejected: \t434\n",
      "Iteration: \t73 / 100\n",
      "Confirmed: \t6\n",
      "Tentative: \t6\n",
      "Rejected: \t434\n",
      "Iteration: \t74 / 100\n",
      "Confirmed: \t6\n",
      "Tentative: \t6\n",
      "Rejected: \t434\n",
      "Iteration: \t75 / 100\n",
      "Confirmed: \t6\n",
      "Tentative: \t6\n",
      "Rejected: \t434\n",
      "Iteration: \t76 / 100\n",
      "Confirmed: \t6\n",
      "Tentative: \t6\n",
      "Rejected: \t434\n",
      "Iteration: \t77 / 100\n",
      "Confirmed: \t7\n",
      "Tentative: \t5\n",
      "Rejected: \t434\n",
      "Iteration: \t78 / 100\n",
      "Confirmed: \t7\n",
      "Tentative: \t5\n",
      "Rejected: \t434\n",
      "Iteration: \t79 / 100\n",
      "Confirmed: \t7\n",
      "Tentative: \t5\n",
      "Rejected: \t434\n",
      "Iteration: \t80 / 100\n",
      "Confirmed: \t8\n",
      "Tentative: \t4\n",
      "Rejected: \t434\n",
      "Iteration: \t81 / 100\n",
      "Confirmed: \t8\n",
      "Tentative: \t4\n",
      "Rejected: \t434\n",
      "Iteration: \t82 / 100\n",
      "Confirmed: \t8\n",
      "Tentative: \t4\n",
      "Rejected: \t434\n",
      "Iteration: \t83 / 100\n",
      "Confirmed: \t8\n",
      "Tentative: \t4\n",
      "Rejected: \t434\n",
      "Iteration: \t84 / 100\n",
      "Confirmed: \t8\n",
      "Tentative: \t4\n",
      "Rejected: \t434\n",
      "Iteration: \t85 / 100\n",
      "Confirmed: \t8\n",
      "Tentative: \t4\n",
      "Rejected: \t434\n",
      "Iteration: \t86 / 100\n",
      "Confirmed: \t8\n",
      "Tentative: \t4\n",
      "Rejected: \t434\n",
      "Iteration: \t87 / 100\n",
      "Confirmed: \t8\n",
      "Tentative: \t4\n",
      "Rejected: \t434\n",
      "Iteration: \t88 / 100\n",
      "Confirmed: \t8\n",
      "Tentative: \t4\n",
      "Rejected: \t434\n",
      "Iteration: \t89 / 100\n",
      "Confirmed: \t8\n",
      "Tentative: \t4\n",
      "Rejected: \t434\n",
      "Iteration: \t90 / 100\n",
      "Confirmed: \t8\n",
      "Tentative: \t4\n",
      "Rejected: \t434\n",
      "Iteration: \t91 / 100\n",
      "Confirmed: \t8\n",
      "Tentative: \t4\n",
      "Rejected: \t434\n",
      "Iteration: \t92 / 100\n",
      "Confirmed: \t8\n",
      "Tentative: \t4\n",
      "Rejected: \t434\n",
      "Iteration: \t93 / 100\n",
      "Confirmed: \t8\n",
      "Tentative: \t4\n",
      "Rejected: \t434\n",
      "Iteration: \t94 / 100\n",
      "Confirmed: \t8\n",
      "Tentative: \t4\n",
      "Rejected: \t434\n",
      "Iteration: \t95 / 100\n",
      "Confirmed: \t8\n",
      "Tentative: \t4\n",
      "Rejected: \t434\n",
      "Iteration: \t96 / 100\n",
      "Confirmed: \t8\n",
      "Tentative: \t4\n",
      "Rejected: \t434\n",
      "Iteration: \t97 / 100\n",
      "Confirmed: \t8\n",
      "Tentative: \t4\n",
      "Rejected: \t434\n",
      "Iteration: \t98 / 100\n",
      "Confirmed: \t8\n",
      "Tentative: \t4\n",
      "Rejected: \t434\n",
      "Iteration: \t99 / 100\n",
      "Confirmed: \t8\n",
      "Tentative: \t4\n",
      "Rejected: \t434\n",
      "\n",
      "\n",
      "BorutaPy finished running.\n",
      "\n",
      "Iteration: \t100 / 100\n",
      "Confirmed: \t8\n",
      "Tentative: \t4\n",
      "Rejected: \t434\n"
     ]
    },
    {
     "data": {
      "text/plain": [
       "BorutaPy(estimator=RandomForestClassifier(n_estimators=1000,\n",
       "                                          random_state=RandomState(MT19937) at 0x1F980589C40),\n",
       "         random_state=RandomState(MT19937) at 0x1F980589C40, verbose=2)"
      ]
     },
     "execution_count": 26,
     "metadata": {},
     "output_type": "execute_result"
    }
   ],
   "source": [
    "clf = RandomForestClassifier()\n",
    "feat_selector = BorutaPy(clf, random_state=42, verbose=2)\n",
    "feat_selector.fit(X_boruta, y_boruta)"
   ]
  },
  {
   "cell_type": "code",
   "execution_count": 33,
   "id": "125777cf",
   "metadata": {},
   "outputs": [],
   "source": [
    "accept_feat=X.columns[feat_selector.support_].to_list()"
   ]
  },
  {
   "cell_type": "code",
   "execution_count": 34,
   "id": "53b25d1a",
   "metadata": {},
   "outputs": [],
   "source": [
    "irresolution=X.columns[feat_selector.support_weak_].to_list()"
   ]
  },
  {
   "cell_type": "code",
   "execution_count": 35,
   "id": "9dad5358",
   "metadata": {},
   "outputs": [
    {
     "data": {
      "text/plain": [
       "['38', '59', '64', '65', '103', '153', '348', '426']"
      ]
     },
     "execution_count": 35,
     "metadata": {},
     "output_type": "execute_result"
    }
   ],
   "source": [
    "accept_feat"
   ]
  },
  {
   "cell_type": "code",
   "execution_count": 36,
   "id": "7589eb35",
   "metadata": {},
   "outputs": [],
   "source": [
    "#call transform to update X to selected features\n",
    "X_filtered=X[accept_feat]"
   ]
  },
  {
   "cell_type": "code",
   "execution_count": 37,
   "id": "7bbb89dc",
   "metadata": {},
   "outputs": [
    {
     "data": {
      "text/plain": [
       "(1567, 8)"
      ]
     },
     "execution_count": 37,
     "metadata": {},
     "output_type": "execute_result"
    }
   ],
   "source": [
    "X_filtered.shape"
   ]
  },
  {
   "cell_type": "code",
   "execution_count": 38,
   "id": "38b34b29",
   "metadata": {},
   "outputs": [
    {
     "data": {
      "text/html": [
       "<div>\n",
       "<style scoped>\n",
       "    .dataframe tbody tr th:only-of-type {\n",
       "        vertical-align: middle;\n",
       "    }\n",
       "\n",
       "    .dataframe tbody tr th {\n",
       "        vertical-align: top;\n",
       "    }\n",
       "\n",
       "    .dataframe thead th {\n",
       "        text-align: right;\n",
       "    }\n",
       "</style>\n",
       "<table border=\"1\" class=\"dataframe\">\n",
       "  <thead>\n",
       "    <tr style=\"text-align: right;\">\n",
       "      <th></th>\n",
       "      <th>38</th>\n",
       "      <th>59</th>\n",
       "      <th>64</th>\n",
       "      <th>65</th>\n",
       "      <th>103</th>\n",
       "      <th>153</th>\n",
       "      <th>348</th>\n",
       "      <th>426</th>\n",
       "    </tr>\n",
       "  </thead>\n",
       "  <tbody>\n",
       "    <tr>\n",
       "      <th>0</th>\n",
       "      <td>86.9555</td>\n",
       "      <td>-1.7264</td>\n",
       "      <td>21.7264</td>\n",
       "      <td>29.5367</td>\n",
       "      <td>-0.0042</td>\n",
       "      <td>0.0167</td>\n",
       "      <td>0.0215</td>\n",
       "      <td>1.7275</td>\n",
       "    </tr>\n",
       "    <tr>\n",
       "      <th>1</th>\n",
       "      <td>87.5241</td>\n",
       "      <td>0.8073</td>\n",
       "      <td>19.1927</td>\n",
       "      <td>27.6301</td>\n",
       "      <td>-0.0045</td>\n",
       "      <td>0.0144</td>\n",
       "      <td>0.0142</td>\n",
       "      <td>1.4857</td>\n",
       "    </tr>\n",
       "    <tr>\n",
       "      <th>2</th>\n",
       "      <td>84.7327</td>\n",
       "      <td>23.8245</td>\n",
       "      <td>16.1755</td>\n",
       "      <td>24.2829</td>\n",
       "      <td>-0.0026</td>\n",
       "      <td>0.0177</td>\n",
       "      <td>0.0105</td>\n",
       "      <td>1.8268</td>\n",
       "    </tr>\n",
       "    <tr>\n",
       "      <th>3</th>\n",
       "      <td>86.6867</td>\n",
       "      <td>24.3791</td>\n",
       "      <td>15.6209</td>\n",
       "      <td>23.4736</td>\n",
       "      <td>-0.0059</td>\n",
       "      <td>0.0150</td>\n",
       "      <td>0.0407</td>\n",
       "      <td>1.5441</td>\n",
       "    </tr>\n",
       "    <tr>\n",
       "      <th>4</th>\n",
       "      <td>86.1468</td>\n",
       "      <td>-12.2945</td>\n",
       "      <td>32.2945</td>\n",
       "      <td>44.1498</td>\n",
       "      <td>-0.0045</td>\n",
       "      <td>0.0126</td>\n",
       "      <td>0.0246</td>\n",
       "      <td>1.2943</td>\n",
       "    </tr>\n",
       "  </tbody>\n",
       "</table>\n",
       "</div>"
      ],
      "text/plain": [
       "        38       59       64       65     103     153     348     426\n",
       "0  86.9555  -1.7264  21.7264  29.5367 -0.0042  0.0167  0.0215  1.7275\n",
       "1  87.5241   0.8073  19.1927  27.6301 -0.0045  0.0144  0.0142  1.4857\n",
       "2  84.7327  23.8245  16.1755  24.2829 -0.0026  0.0177  0.0105  1.8268\n",
       "3  86.6867  24.3791  15.6209  23.4736 -0.0059  0.0150  0.0407  1.5441\n",
       "4  86.1468 -12.2945  32.2945  44.1498 -0.0045  0.0126  0.0246  1.2943"
      ]
     },
     "execution_count": 38,
     "metadata": {},
     "output_type": "execute_result"
    }
   ],
   "source": [
    "X_filtered.head()"
   ]
  },
  {
   "cell_type": "markdown",
   "id": "a5cce2f2",
   "metadata": {},
   "source": [
    "#### Split data"
   ]
  },
  {
   "cell_type": "code",
   "execution_count": 39,
   "id": "991942a6",
   "metadata": {},
   "outputs": [],
   "source": [
    "X_train, X_test, y_train, y_test=train_test_split(X_filtered, y, test_size=0.3, stratify=y, random_state=101)"
   ]
  },
  {
   "cell_type": "markdown",
   "id": "2e0712ea",
   "metadata": {},
   "source": [
    "#### Over-sampling and Under-sampling"
   ]
  },
  {
   "cell_type": "code",
   "execution_count": 40,
   "id": "eaddf539",
   "metadata": {},
   "outputs": [],
   "source": [
    "from imblearn.over_sampling import ADASYN\n",
    "from imblearn.pipeline import make_pipeline\n",
    "from imblearn.under_sampling import NearMiss"
   ]
  },
  {
   "cell_type": "code",
   "execution_count": 41,
   "id": "c93dd9d8",
   "metadata": {},
   "outputs": [],
   "source": [
    "count_class_0 = 150\n",
    "count_class_1 = 150\n",
    "pipe = make_pipeline(\n",
    "    ADASYN(sampling_strategy={1: count_class_1}),\n",
    "    NearMiss(sampling_strategy={0: count_class_0})\n",
    "            )\n",
    "\n",
    "X_oversample, y_oversample=pipe.fit_resample(X_train,y_train)\n"
   ]
  },
  {
   "cell_type": "code",
   "execution_count": 42,
   "id": "28ffef1c",
   "metadata": {},
   "outputs": [
    {
     "name": "stdout",
     "output_type": "stream",
     "text": [
      "Resampled dataset shape Counter({0: 150, 1: 146})\n"
     ]
    }
   ],
   "source": [
    "from collections import Counter\n",
    "print('Resampled dataset shape %s' % Counter(y_oversample))"
   ]
  },
  {
   "cell_type": "code",
   "execution_count": 43,
   "id": "e145b90e",
   "metadata": {},
   "outputs": [
    {
     "data": {
      "text/plain": [
       "0    1023\n",
       "1      73\n",
       "Name: Pass/Fail, dtype: int64"
      ]
     },
     "execution_count": 43,
     "metadata": {},
     "output_type": "execute_result"
    }
   ],
   "source": [
    "y_train.value_counts()"
   ]
  },
  {
   "cell_type": "code",
   "execution_count": 44,
   "id": "c28e8159",
   "metadata": {},
   "outputs": [
    {
     "data": {
      "text/plain": [
       "0    150\n",
       "1    146\n",
       "Name: Pass/Fail, dtype: int64"
      ]
     },
     "execution_count": 44,
     "metadata": {},
     "output_type": "execute_result"
    }
   ],
   "source": [
    "y_oversample.value_counts()"
   ]
  },
  {
   "cell_type": "code",
   "execution_count": 45,
   "id": "341b3888",
   "metadata": {},
   "outputs": [
    {
     "data": {
      "text/plain": [
       "(296, 8)"
      ]
     },
     "execution_count": 45,
     "metadata": {},
     "output_type": "execute_result"
    }
   ],
   "source": [
    "X_oversample.shape"
   ]
  },
  {
   "cell_type": "markdown",
   "id": "4e362c01",
   "metadata": {},
   "source": [
    "### Modelling \n",
    "#### 1. Decision Tree\n",
    "#### 2. Random Forest\n",
    "#### 3. XGBoost\n",
    "#### 4. Support Vector Machine\n",
    "#### 5. Naive Bayes Classifier\n"
   ]
  },
  {
   "cell_type": "markdown",
   "id": "eea37ac8",
   "metadata": {},
   "source": [
    "### Decision Tree"
   ]
  },
  {
   "cell_type": "code",
   "execution_count": 46,
   "id": "df321df1",
   "metadata": {},
   "outputs": [],
   "source": [
    "# Decision Tree\n",
    "from sklearn.tree import DecisionTreeClassifier\n",
    "\n",
    "tree = DecisionTreeClassifier()\n",
    "tree.fit(X_oversample, y_oversample)\n",
    "\n",
    "y_pred = tree.predict(X_test)\n"
   ]
  },
  {
   "cell_type": "code",
   "execution_count": 47,
   "id": "b841ba7e",
   "metadata": {},
   "outputs": [
    {
     "data": {
      "text/plain": [
       "<AxesSubplot:title={'center':'Confusion Matrix for Decision Tree Classifer'}>"
      ]
     },
     "execution_count": 47,
     "metadata": {},
     "output_type": "execute_result"
    },
    {
     "data": {
      "image/png": "[encoded data removed]",
      "text/plain": [
       "<Figure size 504x360 with 2 Axes>"
      ]
     },
     "metadata": {
      "needs_background": "light"
     },
     "output_type": "display_data"
    }
   ],
   "source": [
    "from sklearn.metrics import confusion_matrix\n",
    "\n",
    "cm = confusion_matrix(y_test, y_pred)\n",
    "\n",
    "plt.rcParams['figure.figsize'] = (7, 5)\n",
    "plt.title('Confusion Matrix for Decision Tree Classifer')\n",
    "sns.set(style = 'dark', font_scale = 1.4)\n",
    "sns.heatmap(cm, annot = True, annot_kws = {\"size\": 15})"
   ]
  },
  {
   "cell_type": "code",
   "execution_count": 48,
   "id": "5913b9e0",
   "metadata": {},
   "outputs": [
    {
     "data": {
      "text/plain": [
       "0    440\n",
       "1     31\n",
       "Name: Pass/Fail, dtype: int64"
      ]
     },
     "execution_count": 48,
     "metadata": {},
     "output_type": "execute_result"
    }
   ],
   "source": [
    "y_test.value_counts()"
   ]
  },
  {
   "cell_type": "code",
   "execution_count": 49,
   "id": "ccbcd999",
   "metadata": {},
   "outputs": [
    {
     "name": "stdout",
     "output_type": "stream",
     "text": [
      "              precision    recall  f1-score   support\n",
      "\n",
      "           0       0.98      0.53      0.69       440\n",
      "           1       0.11      0.84      0.20        31\n",
      "\n",
      "    accuracy                           0.55       471\n",
      "   macro avg       0.55      0.68      0.44       471\n",
      "weighted avg       0.92      0.55      0.65       471\n",
      "\n"
     ]
    }
   ],
   "source": [
    "from sklearn.metrics import classification_report\n",
    "print(classification_report(y_test,y_pred))\n"
   ]
  },
  {
   "cell_type": "code",
   "execution_count": 50,
   "id": "93e5642e",
   "metadata": {},
   "outputs": [
    {
     "data": {
      "text/plain": [
       "0.6829912023460412"
      ]
     },
     "execution_count": 50,
     "metadata": {},
     "output_type": "execute_result"
    }
   ],
   "source": [
    "from sklearn.metrics import roc_auc_score\n",
    "roc_auc_score(y_test,y_pred)"
   ]
  },
  {
   "cell_type": "markdown",
   "id": "ab618861",
   "metadata": {},
   "source": [
    "### Random Forest"
   ]
  },
  {
   "cell_type": "code",
   "execution_count": 51,
   "id": "6b085d18",
   "metadata": {},
   "outputs": [
    {
     "name": "stdout",
     "output_type": "stream",
     "text": [
      "              precision    recall  f1-score   support\n",
      "\n",
      "           0       0.99      0.61      0.75       440\n",
      "           1       0.14      0.90      0.24        31\n",
      "\n",
      "    accuracy                           0.63       471\n",
      "   macro avg       0.56      0.76      0.50       471\n",
      "weighted avg       0.93      0.63      0.72       471\n",
      "\n"
     ]
    },
    {
     "data": {
      "text/plain": [
       "0.7561583577712611"
      ]
     },
     "execution_count": 51,
     "metadata": {},
     "output_type": "execute_result"
    }
   ],
   "source": [
    "from sklearn.ensemble import RandomForestClassifier\n",
    "rfc=RandomForestClassifier()\n",
    "rfc.fit(X_oversample, y_oversample)\n",
    "y_pred = rfc.predict(X_test)\n",
    "from sklearn.metrics import classification_report\n",
    "print(classification_report(y_test,y_pred))\n",
    "from sklearn.metrics import roc_auc_score\n",
    "roc_auc_score(y_test,y_pred)"
   ]
  },
  {
   "cell_type": "code",
   "execution_count": 55,
   "id": "b1a0f547",
   "metadata": {},
   "outputs": [
    {
     "data": {
      "text/plain": [
       "59     0.196569\n",
       "65     0.137884\n",
       "64     0.135791\n",
       "103    0.122140\n",
       "426    0.106861\n",
       "348    0.104167\n",
       "153    0.101006\n",
       "38     0.095582\n",
       "dtype: float64"
      ]
     },
     "execution_count": 55,
     "metadata": {},
     "output_type": "execute_result"
    }
   ],
   "source": [
    "feat_importances=pd.Series(rfc.feature_importances_,index=X_oversample.columns)\n",
    "feat_importances.sort_values(ascending=False).head(25)"
   ]
  },
  {
   "cell_type": "code",
   "execution_count": 56,
   "id": "8de884f7",
   "metadata": {},
   "outputs": [],
   "source": [
    "#plot feature importance\n",
    "def plot_feature_importance(importance,names):\n",
    "    feature_importance=np.array(importance)\n",
    "    feature_names=np.array(names)\n",
    "    \n",
    "    data={'feature_names':feature_names,'feature_importance':feature_importance}\n",
    "    fi_df=pd.DataFrame(data)\n",
    "    \n",
    "    fi_df.sort_values(by=['feature_importance'],ascending=False,inplace=True)\n",
    "    \n",
    "    plt.figure(figsize=(10,8))\n",
    "    \n",
    "    sns.barplot(x=fi_df['feature_importance'][0:8],y=fi_df['feature_names'][0:20])\n",
    "    \n",
    "    plt.title('Feature Importance For Semiconductor Process Failure')\n",
    "    plt.xlabel('Feature Importance')\n",
    "    plt.ylabel('Feature Names')"
   ]
  },
  {
   "cell_type": "code",
   "execution_count": 57,
   "id": "45db8e1d",
   "metadata": {},
   "outputs": [
    {
     "data": {
      "image/png": "[encoded data removed]",
      "text/plain": [
       "<Figure size 720x576 with 1 Axes>"
      ]
     },
     "metadata": {},
     "output_type": "display_data"
    }
   ],
   "source": [
    "plot_feature_importance(rfc.feature_importances_,X_oversample.columns)"
   ]
  },
  {
   "cell_type": "code",
   "execution_count": null,
   "id": "191260ff",
   "metadata": {},
   "outputs": [],
   "source": []
  },
  {
   "cell_type": "markdown",
   "id": "c79cf0df",
   "metadata": {},
   "source": [
    "### Random forest and randomized search CV"
   ]
  },
  {
   "cell_type": "code",
   "execution_count": 58,
   "id": "8a354f71",
   "metadata": {},
   "outputs": [],
   "source": [
    "#Random Forest and Randomized search CV\n",
    "from sklearn.model_selection import RandomizedSearchCV\n",
    "from sklearn.ensemble import RandomForestClassifier\n",
    "\n",
    "#Number of trees in random forest\n",
    "n_estimators=[int(x) for x in np.linspace(start=100,stop=600,num=10)]\n",
    "\n",
    "#Number of features to consider at every split\n",
    "max_features=['auto','sqrt']\n",
    "\n",
    "#Maximum number of levels in tree\n",
    "max_depth=[int(x) for x in np.linspace(5,50,num=10)]\n",
    "\n",
    "#Minimum number of samples required to split a node\n",
    "min_samples_split=[2,5,10,15,20,30,50,100]"
   ]
  },
  {
   "cell_type": "code",
   "execution_count": 59,
   "id": "d9a924a0",
   "metadata": {},
   "outputs": [
    {
     "data": {
      "text/plain": [
       "{'n_estimators': [100, 155, 211, 266, 322, 377, 433, 488, 544, 600],\n",
       " 'max_features': ['auto', 'sqrt'],\n",
       " 'max_depth': [5, 10, 15, 20, 25, 30, 35, 40, 45, 50],\n",
       " 'min_samples_split': [2, 5, 10, 15, 20, 30, 50, 100]}"
      ]
     },
     "execution_count": 59,
     "metadata": {},
     "output_type": "execute_result"
    }
   ],
   "source": [
    "#Create the random grid\n",
    "random_grid={\n",
    "    'n_estimators':n_estimators,\n",
    "    'max_features':max_features,\n",
    "    'max_depth':max_depth,\n",
    "    'min_samples_split':min_samples_split\n",
    "}\n",
    "random_grid"
   ]
  },
  {
   "cell_type": "code",
   "execution_count": 60,
   "id": "d06edbb1",
   "metadata": {},
   "outputs": [
    {
     "name": "stdout",
     "output_type": "stream",
     "text": [
      "Fitting 3 folds for each of 50 candidates, totalling 150 fits\n"
     ]
    },
    {
     "data": {
      "text/plain": [
       "RandomizedSearchCV(cv=3, estimator=RandomForestClassifier(), n_iter=50,\n",
       "                   n_jobs=-1,\n",
       "                   param_distributions={'max_depth': [5, 10, 15, 20, 25, 30, 35,\n",
       "                                                      40, 45, 50],\n",
       "                                        'max_features': ['auto', 'sqrt'],\n",
       "                                        'min_samples_split': [2, 5, 10, 15, 20,\n",
       "                                                              30, 50, 100],\n",
       "                                        'n_estimators': [100, 155, 211, 266,\n",
       "                                                         322, 377, 433, 488,\n",
       "                                                         544, 600]},\n",
       "                   scoring='recall', verbose=2)"
      ]
     },
     "execution_count": 60,
     "metadata": {},
     "output_type": "execute_result"
    }
   ],
   "source": [
    "# initialize your estimator\n",
    "clf_rf=RandomForestClassifier()\n",
    "\n",
    "#Random search of parameters, using 3 fold cross validation\n",
    "rf_random=RandomizedSearchCV(estimator=clf_rf,scoring='recall',param_distributions=random_grid,n_iter=50,cv=3,verbose=2,n_jobs=-1)\n",
    "rf_random.fit(X_oversample, y_oversample)"
   ]
  },
  {
   "cell_type": "code",
   "execution_count": 61,
   "id": "c3a1577c",
   "metadata": {},
   "outputs": [
    {
     "data": {
      "text/plain": [
       "{'n_estimators': 433,\n",
       " 'min_samples_split': 2,\n",
       " 'max_features': 'sqrt',\n",
       " 'max_depth': 15}"
      ]
     },
     "execution_count": 61,
     "metadata": {},
     "output_type": "execute_result"
    }
   ],
   "source": [
    "rf_random.best_params_"
   ]
  },
  {
   "cell_type": "code",
   "execution_count": 62,
   "id": "b02a9301",
   "metadata": {},
   "outputs": [],
   "source": [
    "y_pred=rf_random.predict(X_test)"
   ]
  },
  {
   "cell_type": "code",
   "execution_count": 63,
   "id": "9c902e74",
   "metadata": {},
   "outputs": [
    {
     "name": "stdout",
     "output_type": "stream",
     "text": [
      "Accuracy: 0.643312101910828\n"
     ]
    }
   ],
   "source": [
    "from sklearn import metrics\n",
    "print('Accuracy:',metrics.accuracy_score(y_test,y_pred))"
   ]
  },
  {
   "cell_type": "code",
   "execution_count": 64,
   "id": "2ee9936e",
   "metadata": {},
   "outputs": [
    {
     "name": "stdout",
     "output_type": "stream",
     "text": [
      "              precision    recall  f1-score   support\n",
      "\n",
      "           0       0.99      0.62      0.77       440\n",
      "           1       0.15      0.90      0.25        31\n",
      "\n",
      "    accuracy                           0.64       471\n",
      "   macro avg       0.57      0.76      0.51       471\n",
      "weighted avg       0.93      0.64      0.73       471\n",
      "\n"
     ]
    }
   ],
   "source": [
    "from sklearn.metrics import classification_report,confusion_matrix\n",
    "print(classification_report(y_test,y_pred))"
   ]
  },
  {
   "cell_type": "code",
   "execution_count": 65,
   "id": "af5c13a7",
   "metadata": {},
   "outputs": [
    {
     "data": {
      "text/plain": [
       "array([[275, 165],\n",
       "       [  3,  28]], dtype=int64)"
      ]
     },
     "execution_count": 65,
     "metadata": {},
     "output_type": "execute_result"
    }
   ],
   "source": [
    "confusion_matrix(y_test,y_pred)"
   ]
  },
  {
   "cell_type": "code",
   "execution_count": 66,
   "id": "68952ca9",
   "metadata": {},
   "outputs": [
    {
     "data": {
      "text/plain": [
       "0.7641129032258064"
      ]
     },
     "execution_count": 66,
     "metadata": {},
     "output_type": "execute_result"
    }
   ],
   "source": [
    "from sklearn.metrics import roc_auc_score\n",
    "roc_auc_score(y_test,y_pred)"
   ]
  },
  {
   "cell_type": "code",
   "execution_count": 67,
   "id": "3a1a2b17",
   "metadata": {},
   "outputs": [
    {
     "data": {
      "text/plain": [
       "59     0.207074\n",
       "65     0.135009\n",
       "64     0.130739\n",
       "103    0.129452\n",
       "426    0.105081\n",
       "153    0.099897\n",
       "38     0.096622\n",
       "348    0.096126\n",
       "dtype: float64"
      ]
     },
     "execution_count": 67,
     "metadata": {},
     "output_type": "execute_result"
    }
   ],
   "source": [
    "feat_importances=pd.Series(rf_random.best_estimator_.feature_importances_,index=X_oversample.columns)\n",
    "feat_importances.sort_values(ascending=False).head(25)"
   ]
  },
  {
   "cell_type": "code",
   "execution_count": 68,
   "id": "fa6590ba",
   "metadata": {},
   "outputs": [],
   "source": [
    "#plot feature importance\n",
    "def plot_feature_importance(importance,names):\n",
    "    feature_importance=np.array(importance)\n",
    "    feature_names=np.array(names)\n",
    "    \n",
    "    data={'feature_names':feature_names,'feature_importance':feature_importance}\n",
    "    fi_df=pd.DataFrame(data)\n",
    "    \n",
    "    fi_df.sort_values(by=['feature_importance'],ascending=False,inplace=True)\n",
    "    \n",
    "    plt.figure(figsize=(10,8))\n",
    "    \n",
    "    sns.barplot(x=fi_df['feature_importance'][0:8],y=fi_df['feature_names'][0:20])\n",
    "    \n",
    "    plt.title('Feature Importance For Semiconductor Process Failure')\n",
    "    plt.xlabel('Feature Importance')\n",
    "    plt.ylabel('Feature Names')"
   ]
  },
  {
   "cell_type": "code",
   "execution_count": 69,
   "id": "49b1ce4d",
   "metadata": {},
   "outputs": [
    {
     "data": {
      "image/png": "[encoded data removed]",
      "text/plain": [
       "<Figure size 720x576 with 1 Axes>"
      ]
     },
     "metadata": {},
     "output_type": "display_data"
    }
   ],
   "source": [
    "plot_feature_importance(rf_random.best_estimator_.feature_importances_,X_oversample.columns)"
   ]
  },
  {
   "cell_type": "code",
   "execution_count": 119,
   "id": "078ae380",
   "metadata": {},
   "outputs": [],
   "source": [
    "from sklearn.metrics import roc_curve\n",
    "y_score=rf_random.predict_proba(X_test)[:,1]"
   ]
  },
  {
   "cell_type": "code",
   "execution_count": 120,
   "id": "389971d8",
   "metadata": {},
   "outputs": [],
   "source": [
    "fpr,tpr,threshold=roc_curve(y_test,y_score)"
   ]
  },
  {
   "cell_type": "code",
   "execution_count": 121,
   "id": "4f1cc16c",
   "metadata": {},
   "outputs": [
    {
     "name": "stdout",
     "output_type": "stream",
     "text": [
      "roc_auc_score for randomized random forest: 0.7909090909090909\n"
     ]
    }
   ],
   "source": [
    "print('roc_auc_score for randomized random forest:',roc_auc_score(y_test,y_score))"
   ]
  },
  {
   "cell_type": "code",
   "execution_count": 122,
   "id": "d02aa730",
   "metadata": {},
   "outputs": [
    {
     "data": {
      "image/png": "[encoded data removed]",
      "text/plain": [
       "<Figure size 504x360 with 1 Axes>"
      ]
     },
     "metadata": {},
     "output_type": "display_data"
    }
   ],
   "source": [
    "plt.figure()\n",
    "plt.title('Receiver Operating Characteristics')\n",
    "plt.plot(fpr,tpr)\n",
    "plt.plot([0,1],ls='--')\n",
    "plt.plot([0,0],[1,0],c='.7')\n",
    "plt.plot([1,1],c='.7')\n",
    "plt.ylabel('True positive Rate')\n",
    "plt.xlabel('False Positive Rate')\n",
    "plt.show()"
   ]
  },
  {
   "cell_type": "code",
   "execution_count": 128,
   "id": "8cd27408",
   "metadata": {},
   "outputs": [],
   "source": [
    "gmean=np.sqrt(tpr*(1-fpr))\n",
    "index=np.argmax(gmean)\n",
    "thresholdOpt=round(threshold[index],ndigits=4)\n",
    "fprOpt=round(fpr[index],ndigits=4)\n",
    "tprOpt=round(tpr[index],ndigits=4)\n",
    "gmeanOpt=round(gmean[index],ndigits=4)"
   ]
  },
  {
   "cell_type": "code",
   "execution_count": 130,
   "id": "3ca131d0",
   "metadata": {},
   "outputs": [
    {
     "name": "stdout",
     "output_type": "stream",
     "text": [
      "Best Threshold:0.5173 with G-mean:0.7608\n",
      "FRP:0.3591,TPR:0.9032\n"
     ]
    }
   ],
   "source": [
    "print('Best Threshold:{} with G-mean:{}'.format(thresholdOpt,gmeanOpt))\n",
    "print('FRP:{},TPR:{}'.format(fprOpt,tprOpt))"
   ]
  },
  {
   "cell_type": "code",
   "execution_count": 132,
   "id": "4c830cef",
   "metadata": {},
   "outputs": [],
   "source": [
    "def calc_metrics(labels_test, test_probs, threshold = 0.5):\n",
    "    scores = [1 if x>=threshold else 0 for x in test_probs]\n",
    "    auc = metrics.roc_auc_score(labels_test, test_probs)\n",
    "    kappa = metrics.cohen_kappa_score(labels_test,scores)\n",
    "    confusion = metrics.confusion_matrix(labels_test,scores, labels=list(set(labels_test)))\n",
    "    print('thresh: %.2f, kappa: %.3f, AUC test-set: %.3f'%(threshold, kappa, auc))\n",
    "    print(confusion)\n",
    "    print(metrics.classification_report(labels_test,scores))\n",
    "    return "
   ]
  },
  {
   "cell_type": "code",
   "execution_count": 134,
   "id": "901a7c2a",
   "metadata": {},
   "outputs": [
    {
     "name": "stdout",
     "output_type": "stream",
     "text": [
      "thresh: 0.52, kappa: 0.164, AUC test-set: 0.791\n",
      "[[282 158]\n",
      " [  3  28]]\n",
      "              precision    recall  f1-score   support\n",
      "\n",
      "           0       0.99      0.64      0.78       440\n",
      "           1       0.15      0.90      0.26        31\n",
      "\n",
      "    accuracy                           0.66       471\n",
      "   macro avg       0.57      0.77      0.52       471\n",
      "weighted avg       0.93      0.66      0.74       471\n",
      "\n"
     ]
    }
   ],
   "source": [
    "calc_metrics(y_test,y_score,threshold=thresholdOpt)"
   ]
  },
  {
   "cell_type": "code",
   "execution_count": null,
   "id": "62454e54",
   "metadata": {},
   "outputs": [],
   "source": []
  },
  {
   "cell_type": "code",
   "execution_count": null,
   "id": "c6a622e5",
   "metadata": {},
   "outputs": [],
   "source": []
  },
  {
   "cell_type": "markdown",
   "id": "6ff5d247",
   "metadata": {},
   "source": [
    "### SVM\n"
   ]
  },
  {
   "cell_type": "code",
   "execution_count": 108,
   "id": "91b48180",
   "metadata": {},
   "outputs": [
    {
     "name": "stdout",
     "output_type": "stream",
     "text": [
      "Training Accuracy : 0.7195945945945946\n",
      "Testing Accuracy : 0.8577494692144374\n"
     ]
    }
   ],
   "source": [
    "from sklearn.svm import SVC\n",
    "\n",
    "svc  = SVC(class_weight='balanced')\n",
    "\n",
    "svc.fit(X_train, y_train)\n",
    "\n",
    "y_pred = svc.predict(X_test)\n",
    "\n",
    "print(\"Training Accuracy :\", svc.score(X_oversample, y_oversample))\n",
    "print(\"Testing Accuracy :\", svc.score(X_test, y_test))"
   ]
  },
  {
   "cell_type": "code",
   "execution_count": 109,
   "id": "586b2b8a",
   "metadata": {},
   "outputs": [
    {
     "data": {
      "text/plain": [
       "array([[385,  55],\n",
       "       [ 12,  19]], dtype=int64)"
      ]
     },
     "execution_count": 109,
     "metadata": {},
     "output_type": "execute_result"
    }
   ],
   "source": [
    "confusion_matrix(y_test,y_pred)"
   ]
  },
  {
   "cell_type": "code",
   "execution_count": 110,
   "id": "1a2b4b67",
   "metadata": {},
   "outputs": [],
   "source": [
    "from sklearn.model_selection import GridSearchCV\n",
    "\n",
    "parameters = [{'C': [1, 0.1, 0.0001, 0.000001], 'kernel': ['linear', 'rbf'], 'gamma': [0.0000001, 0.0001, 0.001, 0.01]}]\n",
    "\n",
    "grid_search = GridSearchCV(estimator = svc,\n",
    "                           param_grid = parameters,\n",
    "                           scoring = 'recall',\n",
    "                           cv = 2,\n",
    "                           n_jobs = -1)\n",
    "\n",
    "\n",
    "grid_search = grid_search.fit(X_oversample,y_oversample)\n",
    "best_accuracy = grid_search.best_score_\n",
    "best_parameters = grid_search.best_params_"
   ]
  },
  {
   "cell_type": "code",
   "execution_count": 111,
   "id": "fb7ea910",
   "metadata": {},
   "outputs": [
    {
     "name": "stdout",
     "output_type": "stream",
     "text": [
      "Best Accuracy:  1.0\n",
      "Best Parameters : {'C': 1, 'gamma': 1e-07, 'kernel': 'rbf'}\n"
     ]
    }
   ],
   "source": [
    "print(\"Best Accuracy: \", best_accuracy)\n",
    "print(\"Best Parameters :\", best_parameters)"
   ]
  },
  {
   "cell_type": "code",
   "execution_count": 112,
   "id": "44a48763",
   "metadata": {},
   "outputs": [
    {
     "name": "stdout",
     "output_type": "stream",
     "text": [
      "[[  0 440]\n",
      " [  0  31]]\n"
     ]
    }
   ],
   "source": [
    "y_pred=grid_search.predict(X_test)\n",
    "print(confusion_matrix(y_test,y_pred))\n"
   ]
  },
  {
   "cell_type": "code",
   "execution_count": 113,
   "id": "5d1fb7ac",
   "metadata": {},
   "outputs": [
    {
     "name": "stdout",
     "output_type": "stream",
     "text": [
      "              precision    recall  f1-score   support\n",
      "\n",
      "           0       0.00      0.00      0.00       440\n",
      "           1       0.07      1.00      0.12        31\n",
      "\n",
      "    accuracy                           0.07       471\n",
      "   macro avg       0.03      0.50      0.06       471\n",
      "weighted avg       0.00      0.07      0.01       471\n",
      "\n"
     ]
    },
    {
     "name": "stderr",
     "output_type": "stream",
     "text": [
      "C:\\Users\\Yang Zhang\\anaconda3\\lib\\site-packages\\sklearn\\metrics\\_classification.py:1318: UndefinedMetricWarning: Precision and F-score are ill-defined and being set to 0.0 in labels with no predicted samples. Use `zero_division` parameter to control this behavior.\n",
      "  _warn_prf(average, modifier, msg_start, len(result))\n",
      "C:\\Users\\Yang Zhang\\anaconda3\\lib\\site-packages\\sklearn\\metrics\\_classification.py:1318: UndefinedMetricWarning: Precision and F-score are ill-defined and being set to 0.0 in labels with no predicted samples. Use `zero_division` parameter to control this behavior.\n",
      "  _warn_prf(average, modifier, msg_start, len(result))\n",
      "C:\\Users\\Yang Zhang\\anaconda3\\lib\\site-packages\\sklearn\\metrics\\_classification.py:1318: UndefinedMetricWarning: Precision and F-score are ill-defined and being set to 0.0 in labels with no predicted samples. Use `zero_division` parameter to control this behavior.\n",
      "  _warn_prf(average, modifier, msg_start, len(result))\n"
     ]
    }
   ],
   "source": [
    "print(classification_report(y_test,y_pred))"
   ]
  },
  {
   "cell_type": "markdown",
   "id": "420b691f",
   "metadata": {},
   "source": [
    "### Naive Bayes"
   ]
  },
  {
   "cell_type": "code",
   "execution_count": 76,
   "id": "16486f34",
   "metadata": {},
   "outputs": [
    {
     "name": "stdout",
     "output_type": "stream",
     "text": [
      "Training Accuracy : 0.8074324324324325\n",
      "Testing Accuracy : 0.6794055201698513\n",
      "[[295 145]\n",
      " [  6  25]]\n"
     ]
    }
   ],
   "source": [
    "from sklearn.naive_bayes import GaussianNB\n",
    "\n",
    "nb=GaussianNB()\n",
    "\n",
    "nb.fit(X_oversample, y_oversample)\n",
    "\n",
    "y_pred = nb.predict(X_test)\n",
    "\n",
    "print(\"Training Accuracy :\", nb.score(X_oversample, y_oversample))\n",
    "print(\"Testing Accuracy :\", nb.score(X_test, y_test))\n",
    "print(confusion_matrix(y_test,y_pred))"
   ]
  },
  {
   "cell_type": "code",
   "execution_count": 77,
   "id": "76aebe74",
   "metadata": {},
   "outputs": [
    {
     "name": "stdout",
     "output_type": "stream",
     "text": [
      "              precision    recall  f1-score   support\n",
      "\n",
      "           0       0.98      0.67      0.80       440\n",
      "           1       0.15      0.81      0.25        31\n",
      "\n",
      "    accuracy                           0.68       471\n",
      "   macro avg       0.56      0.74      0.52       471\n",
      "weighted avg       0.93      0.68      0.76       471\n",
      "\n"
     ]
    }
   ],
   "source": [
    "print(classification_report(y_test,y_pred))"
   ]
  },
  {
   "cell_type": "code",
   "execution_count": 78,
   "id": "19c463c5",
   "metadata": {},
   "outputs": [
    {
     "data": {
      "text/plain": [
       "0.7384530791788855"
      ]
     },
     "execution_count": 78,
     "metadata": {},
     "output_type": "execute_result"
    }
   ],
   "source": [
    "roc_auc_score(y_test,y_pred)"
   ]
  },
  {
   "cell_type": "code",
   "execution_count": 79,
   "id": "6021ef0e",
   "metadata": {},
   "outputs": [],
   "source": [
    "from sklearn.model_selection import GridSearchCV\n",
    "\n",
    "parameters = [{'priors': [None], 'var_smoothing': [1.0, 2.0, 3.0, 4.0, 5.0, 6.0]}]\n",
    "\n",
    "grid_search = GridSearchCV(estimator = nb, param_grid = parameters, scoring = 'recall', cv = 2, n_jobs = -1)\n",
    "\n",
    "grid_search = grid_search.fit(X_oversample, y_oversample)\n",
    "best_accuracy = grid_search.best_score_\n",
    "best_parameters = grid_search.best_params_"
   ]
  },
  {
   "cell_type": "code",
   "execution_count": 80,
   "id": "ed595451",
   "metadata": {},
   "outputs": [
    {
     "name": "stdout",
     "output_type": "stream",
     "text": [
      "Best Accuracy:  0.4863013698630137\n",
      "Best Parameter:  {'priors': None, 'var_smoothing': 1.0}\n"
     ]
    }
   ],
   "source": [
    "print(\"Best Accuracy: \", best_accuracy)\n",
    "print(\"Best Parameter: \", best_parameters)"
   ]
  },
  {
   "cell_type": "code",
   "execution_count": 81,
   "id": "ac48ac4f",
   "metadata": {},
   "outputs": [
    {
     "name": "stdout",
     "output_type": "stream",
     "text": [
      "[[376  64]\n",
      " [ 12  19]]\n"
     ]
    }
   ],
   "source": [
    "y_pred=grid_search.predict(X_test)\n",
    "print(confusion_matrix(y_test,y_pred))"
   ]
  },
  {
   "cell_type": "code",
   "execution_count": 82,
   "id": "cc51496d",
   "metadata": {},
   "outputs": [
    {
     "name": "stdout",
     "output_type": "stream",
     "text": [
      "              precision    recall  f1-score   support\n",
      "\n",
      "           0       0.97      0.85      0.91       440\n",
      "           1       0.23      0.61      0.33        31\n",
      "\n",
      "    accuracy                           0.84       471\n",
      "   macro avg       0.60      0.73      0.62       471\n",
      "weighted avg       0.92      0.84      0.87       471\n",
      "\n"
     ]
    }
   ],
   "source": [
    "print(classification_report(y_test,y_pred))"
   ]
  },
  {
   "cell_type": "code",
   "execution_count": 83,
   "id": "d2d32531",
   "metadata": {},
   "outputs": [
    {
     "data": {
      "text/plain": [
       "0.733724340175953"
      ]
     },
     "execution_count": 83,
     "metadata": {},
     "output_type": "execute_result"
    }
   ],
   "source": [
    "roc_auc_score(y_test,y_pred)"
   ]
  },
  {
   "cell_type": "markdown",
   "id": "d6e00f94",
   "metadata": {},
   "source": [
    "### XgBoost"
   ]
  },
  {
   "cell_type": "code",
   "execution_count": 84,
   "id": "e19f3c85",
   "metadata": {},
   "outputs": [
    {
     "name": "stdout",
     "output_type": "stream",
     "text": [
      "Requirement already satisfied: xgboost in c:\\users\\yang zhang\\anaconda3\\lib\\site-packages (1.6.0)\n",
      "Requirement already satisfied: scipy in c:\\users\\yang zhang\\anaconda3\\lib\\site-packages (from xgboost) (1.7.1)\n",
      "Requirement already satisfied: numpy in c:\\users\\yang zhang\\anaconda3\\lib\\site-packages (from xgboost) (1.20.3)\n"
     ]
    }
   ],
   "source": [
    "!pip install xgboost"
   ]
  },
  {
   "cell_type": "code",
   "execution_count": 85,
   "id": "eba5c4c0",
   "metadata": {},
   "outputs": [
    {
     "name": "stdout",
     "output_type": "stream",
     "text": [
      "[17:45:02] WARNING: D:\\bld\\xgboost-split_1645118015404\\work\\src\\learner.cc:1115: Starting in XGBoost 1.3.0, the default evaluation metric used with the objective 'binary:logistic' was changed from 'error' to 'logloss'. Explicitly set eval_metric if you'd like to restore the old behavior.\n",
      "Training Accuracy : 1.0\n",
      "Testing Accuracy : 0.6369426751592356\n"
     ]
    },
    {
     "name": "stderr",
     "output_type": "stream",
     "text": [
      "C:\\Users\\Yang Zhang\\anaconda3\\lib\\site-packages\\xgboost\\sklearn.py:1224: UserWarning: The use of label encoder in XGBClassifier is deprecated and will be removed in a future release. To remove this warning, do the following: 1) Pass option use_label_encoder=False when constructing XGBClassifier object; and 2) Encode your labels (y) as integers starting with 0, i.e. 0, 1, 2, ..., [num_class - 1].\n",
      "  warnings.warn(label_encoder_deprecation_msg, UserWarning)\n"
     ]
    }
   ],
   "source": [
    "import xgboost as xgb\n",
    "from xgboost.sklearn import XGBClassifier\n",
    "\n",
    "xgb= XGBClassifier()\n",
    "\n",
    "xgb.fit(X_oversample, y_oversample)\n",
    "\n",
    "y_pred =xgb.predict(X_test)\n",
    "print(\"Training Accuracy :\", xgb.score(X_oversample, y_oversample))\n",
    "print(\"Testing Accuracy :\", xgb.score(X_test, y_test))"
   ]
  },
  {
   "cell_type": "code",
   "execution_count": 86,
   "id": "77913809",
   "metadata": {},
   "outputs": [
    {
     "name": "stdout",
     "output_type": "stream",
     "text": [
      "[17:45:03] WARNING: D:\\bld\\xgboost-split_1645118015404\\work\\src\\learner.cc:1115: Starting in XGBoost 1.3.0, the default evaluation metric used with the objective 'binary:logistic' was changed from 'error' to 'logloss'. Explicitly set eval_metric if you'd like to restore the old behavior.\n"
     ]
    },
    {
     "name": "stderr",
     "output_type": "stream",
     "text": [
      "C:\\Users\\Yang Zhang\\anaconda3\\lib\\site-packages\\xgboost\\sklearn.py:1224: UserWarning: The use of label encoder in XGBClassifier is deprecated and will be removed in a future release. To remove this warning, do the following: 1) Pass option use_label_encoder=False when constructing XGBClassifier object; and 2) Encode your labels (y) as integers starting with 0, i.e. 0, 1, 2, ..., [num_class - 1].\n",
      "  warnings.warn(label_encoder_deprecation_msg, UserWarning)\n"
     ]
    }
   ],
   "source": [
    "from sklearn.model_selection import GridSearchCV\n",
    "\n",
    "parameters = [{'max_depth' : [1, 10, 5, 7]}]\n",
    "\n",
    "grid_search = GridSearchCV(estimator =xgb, param_grid = parameters, scoring = 'recall', cv = 2, n_jobs = -1)\n",
    "\n",
    "grid_search = grid_search.fit(X_oversample, y_oversample)\n",
    "best_accuracy = grid_search.best_score_\n",
    "best_parameters = grid_search.best_params_"
   ]
  },
  {
   "cell_type": "code",
   "execution_count": 87,
   "id": "2fa533b1",
   "metadata": {},
   "outputs": [
    {
     "name": "stdout",
     "output_type": "stream",
     "text": [
      "Best Accuracy:  0.7945205479452054\n",
      "Best Parameter:  {'max_depth': 5}\n"
     ]
    }
   ],
   "source": [
    "print(\"Best Accuracy: \", best_accuracy)\n",
    "print(\"Best Parameter: \", best_parameters)"
   ]
  },
  {
   "cell_type": "code",
   "execution_count": 88,
   "id": "787d4887",
   "metadata": {},
   "outputs": [
    {
     "name": "stdout",
     "output_type": "stream",
     "text": [
      "[17:45:07] WARNING: D:\\bld\\xgboost-split_1645118015404\\work\\src\\learner.cc:1115: Starting in XGBoost 1.3.0, the default evaluation metric used with the objective 'binary:logistic' was changed from 'error' to 'logloss'. Explicitly set eval_metric if you'd like to restore the old behavior.\n",
      "Training Accuracy : 1.0\n",
      "Testing Accuracy : 0.8064516129032258\n"
     ]
    },
    {
     "name": "stderr",
     "output_type": "stream",
     "text": [
      "C:\\Users\\Yang Zhang\\anaconda3\\lib\\site-packages\\xgboost\\sklearn.py:1224: UserWarning: The use of label encoder in XGBClassifier is deprecated and will be removed in a future release. To remove this warning, do the following: 1) Pass option use_label_encoder=False when constructing XGBClassifier object; and 2) Encode your labels (y) as integers starting with 0, i.e. 0, 1, 2, ..., [num_class - 1].\n",
      "  warnings.warn(label_encoder_deprecation_msg, UserWarning)\n"
     ]
    }
   ],
   "source": [
    "\n",
    "\n",
    "grid_search.fit(X_oversample,y_oversample)\n",
    "\n",
    "y_pred = grid_search.predict(X_test)\n",
    "\n",
    "print(\"Training Accuracy :\", grid_search.score(X_oversample,y_oversample))\n",
    "print(\"Testing Accuracy :\", grid_search.score(X_test, y_test))"
   ]
  },
  {
   "cell_type": "code",
   "execution_count": 89,
   "id": "d095b130",
   "metadata": {
    "scrolled": true
   },
   "outputs": [
    {
     "name": "stdout",
     "output_type": "stream",
     "text": [
      "[[272 168]\n",
      " [  6  25]]\n"
     ]
    }
   ],
   "source": [
    "print(confusion_matrix(y_test,y_pred))"
   ]
  },
  {
   "cell_type": "code",
   "execution_count": 90,
   "id": "b9457f66",
   "metadata": {
    "scrolled": true
   },
   "outputs": [
    {
     "name": "stdout",
     "output_type": "stream",
     "text": [
      "              precision    recall  f1-score   support\n",
      "\n",
      "           0       0.98      0.62      0.76       440\n",
      "           1       0.13      0.81      0.22        31\n",
      "\n",
      "    accuracy                           0.63       471\n",
      "   macro avg       0.55      0.71      0.49       471\n",
      "weighted avg       0.92      0.63      0.72       471\n",
      "\n"
     ]
    }
   ],
   "source": [
    "print(classification_report(y_test,y_pred))"
   ]
  },
  {
   "cell_type": "code",
   "execution_count": 91,
   "id": "96e037b0",
   "metadata": {},
   "outputs": [
    {
     "data": {
      "text/plain": [
       "0.712316715542522"
      ]
     },
     "execution_count": 91,
     "metadata": {},
     "output_type": "execute_result"
    }
   ],
   "source": [
    "roc_auc_score(y_test,y_pred)"
   ]
  },
  {
   "cell_type": "markdown",
   "id": "76eda599",
   "metadata": {},
   "source": [
    "### K-Nearest Neighbors Classifier"
   ]
  },
  {
   "cell_type": "code",
   "execution_count": 92,
   "id": "a08b8e57",
   "metadata": {},
   "outputs": [
    {
     "name": "stdout",
     "output_type": "stream",
     "text": [
      "Training Accuracy : 0.8277027027027027\n",
      "Testing Accuracy : 0.70276008492569\n"
     ]
    }
   ],
   "source": [
    "from sklearn.neighbors import KNeighborsClassifier\n",
    "knn=KNeighborsClassifier()\n",
    "knn.fit(X_oversample,y_oversample)\n",
    "y_pred=knn.predict(X_test)\n",
    "print(\"Training Accuracy :\", knn.score(X_oversample, y_oversample))\n",
    "print(\"Testing Accuracy :\", knn.score(X_test, y_test))"
   ]
  },
  {
   "cell_type": "code",
   "execution_count": 93,
   "id": "c93f561e",
   "metadata": {
    "scrolled": true
   },
   "outputs": [
    {
     "name": "stdout",
     "output_type": "stream",
     "text": [
      "[[309 131]\n",
      " [  9  22]]\n"
     ]
    }
   ],
   "source": [
    "print(confusion_matrix(y_test,y_pred))"
   ]
  },
  {
   "cell_type": "code",
   "execution_count": 94,
   "id": "9323f8a0",
   "metadata": {
    "scrolled": true
   },
   "outputs": [
    {
     "name": "stdout",
     "output_type": "stream",
     "text": [
      "              precision    recall  f1-score   support\n",
      "\n",
      "           0       0.97      0.70      0.82       440\n",
      "           1       0.14      0.71      0.24        31\n",
      "\n",
      "    accuracy                           0.70       471\n",
      "   macro avg       0.56      0.71      0.53       471\n",
      "weighted avg       0.92      0.70      0.78       471\n",
      "\n"
     ]
    }
   ],
   "source": [
    "print(classification_report(y_test,y_pred))"
   ]
  },
  {
   "cell_type": "code",
   "execution_count": 95,
   "id": "46b7e7f4",
   "metadata": {},
   "outputs": [
    {
     "name": "stdout",
     "output_type": "stream",
     "text": [
      "0.7059750733137831\n"
     ]
    }
   ],
   "source": [
    "print(roc_auc_score(y_test,y_pred))"
   ]
  },
  {
   "cell_type": "markdown",
   "id": "94c2deda",
   "metadata": {},
   "source": [
    "### Ada Boost Classifier"
   ]
  },
  {
   "cell_type": "code",
   "execution_count": 96,
   "id": "584581c5",
   "metadata": {},
   "outputs": [
    {
     "name": "stdout",
     "output_type": "stream",
     "text": [
      "Training Accuracy : 0.9256756756756757\n",
      "Testing Accuracy : 0.5690021231422505\n"
     ]
    }
   ],
   "source": [
    "from sklearn.ensemble import AdaBoostClassifier\n",
    "\n",
    "ada=AdaBoostClassifier()\n",
    "ada.fit(X_oversample,y_oversample)\n",
    "y_pred=ada.predict(X_test)\n",
    "print(\"Training Accuracy :\", ada.score(X_oversample, y_oversample))\n",
    "print(\"Testing Accuracy :\", ada.score(X_test, y_test))"
   ]
  },
  {
   "cell_type": "code",
   "execution_count": 97,
   "id": "91f5f081",
   "metadata": {},
   "outputs": [
    {
     "name": "stdout",
     "output_type": "stream",
     "text": [
      "[[244 196]\n",
      " [  7  24]]\n"
     ]
    }
   ],
   "source": [
    "print(confusion_matrix(y_test,y_pred))"
   ]
  },
  {
   "cell_type": "code",
   "execution_count": 98,
   "id": "2ef6a0c1",
   "metadata": {},
   "outputs": [
    {
     "name": "stdout",
     "output_type": "stream",
     "text": [
      "              precision    recall  f1-score   support\n",
      "\n",
      "           0       0.97      0.55      0.71       440\n",
      "           1       0.11      0.77      0.19        31\n",
      "\n",
      "    accuracy                           0.57       471\n",
      "   macro avg       0.54      0.66      0.45       471\n",
      "weighted avg       0.92      0.57      0.67       471\n",
      "\n"
     ]
    }
   ],
   "source": [
    "print(classification_report(y_test,y_pred))"
   ]
  },
  {
   "cell_type": "code",
   "execution_count": 99,
   "id": "6d8c4113",
   "metadata": {},
   "outputs": [
    {
     "data": {
      "text/plain": [
       "0.6643695014662756"
      ]
     },
     "execution_count": 99,
     "metadata": {},
     "output_type": "execute_result"
    }
   ],
   "source": [
    "roc_auc_score(y_test,y_pred)"
   ]
  },
  {
   "cell_type": "markdown",
   "id": "42026dca",
   "metadata": {},
   "source": [
    "### Gradient Boosting Classifier"
   ]
  },
  {
   "cell_type": "code",
   "execution_count": 100,
   "id": "e8253272",
   "metadata": {},
   "outputs": [
    {
     "name": "stdout",
     "output_type": "stream",
     "text": [
      "Training Accuracy : 0.9898648648648649\n",
      "Testing Accuracy : 0.6411889596602972\n"
     ]
    }
   ],
   "source": [
    "from sklearn.ensemble import GradientBoostingClassifier\n",
    "\n",
    "gbc = GradientBoostingClassifier()\n",
    "\n",
    "gbc.fit(X_oversample,y_oversample)\n",
    "y_pred=gbc.predict(X_test)\n",
    "print(\"Training Accuracy :\", gbc.score(X_oversample, y_oversample))\n",
    "print(\"Testing Accuracy :\", gbc.score(X_test, y_test))"
   ]
  },
  {
   "cell_type": "code",
   "execution_count": 101,
   "id": "11ae295a",
   "metadata": {},
   "outputs": [
    {
     "name": "stdout",
     "output_type": "stream",
     "text": [
      "[[274 166]\n",
      " [  3  28]]\n"
     ]
    }
   ],
   "source": [
    "print(confusion_matrix(y_test,y_pred))"
   ]
  },
  {
   "cell_type": "code",
   "execution_count": 102,
   "id": "50916842",
   "metadata": {},
   "outputs": [
    {
     "name": "stdout",
     "output_type": "stream",
     "text": [
      "              precision    recall  f1-score   support\n",
      "\n",
      "           0       0.99      0.62      0.76       440\n",
      "           1       0.14      0.90      0.25        31\n",
      "\n",
      "    accuracy                           0.64       471\n",
      "   macro avg       0.57      0.76      0.51       471\n",
      "weighted avg       0.93      0.64      0.73       471\n",
      "\n"
     ]
    }
   ],
   "source": [
    "print(classification_report(y_test,y_pred))"
   ]
  },
  {
   "cell_type": "code",
   "execution_count": 103,
   "id": "32f88221",
   "metadata": {},
   "outputs": [
    {
     "data": {
      "text/plain": [
       "0.7629765395894429"
      ]
     },
     "execution_count": 103,
     "metadata": {},
     "output_type": "execute_result"
    }
   ],
   "source": [
    "roc_auc_score(y_test,y_pred)"
   ]
  },
  {
   "cell_type": "markdown",
   "id": "fbb70ca0",
   "metadata": {},
   "source": [
    "### Random forest based on X_train, y_train"
   ]
  },
  {
   "cell_type": "code",
   "execution_count": 118,
   "id": "dda18060",
   "metadata": {},
   "outputs": [
    {
     "name": "stdout",
     "output_type": "stream",
     "text": [
      "              precision    recall  f1-score   support\n",
      "\n",
      "           0       0.93      1.00      0.97       440\n",
      "           1       0.00      0.00      0.00        31\n",
      "\n",
      "    accuracy                           0.93       471\n",
      "   macro avg       0.47      0.50      0.48       471\n",
      "weighted avg       0.87      0.93      0.90       471\n",
      "\n"
     ]
    },
    {
     "name": "stderr",
     "output_type": "stream",
     "text": [
      "C:\\Users\\Yang Zhang\\anaconda3\\lib\\site-packages\\sklearn\\metrics\\_classification.py:1318: UndefinedMetricWarning: Precision and F-score are ill-defined and being set to 0.0 in labels with no predicted samples. Use `zero_division` parameter to control this behavior.\n",
      "  _warn_prf(average, modifier, msg_start, len(result))\n",
      "C:\\Users\\Yang Zhang\\anaconda3\\lib\\site-packages\\sklearn\\metrics\\_classification.py:1318: UndefinedMetricWarning: Precision and F-score are ill-defined and being set to 0.0 in labels with no predicted samples. Use `zero_division` parameter to control this behavior.\n",
      "  _warn_prf(average, modifier, msg_start, len(result))\n",
      "C:\\Users\\Yang Zhang\\anaconda3\\lib\\site-packages\\sklearn\\metrics\\_classification.py:1318: UndefinedMetricWarning: Precision and F-score are ill-defined and being set to 0.0 in labels with no predicted samples. Use `zero_division` parameter to control this behavior.\n",
      "  _warn_prf(average, modifier, msg_start, len(result))\n"
     ]
    },
    {
     "data": {
      "text/plain": [
       "0.5"
      ]
     },
     "execution_count": 118,
     "metadata": {},
     "output_type": "execute_result"
    }
   ],
   "source": [
    "from sklearn.ensemble import RandomForestClassifier\n",
    "rfc_1=RandomForestClassifier(class_weight='balanced')\n",
    "rfc_1.fit(X_train, y_train)\n",
    "y_pred = rfc_1.predict(X_test)\n",
    "from sklearn.metrics import classification_report\n",
    "print(classification_report(y_test,y_pred))\n",
    "from sklearn.metrics import roc_auc_score\n",
    "roc_auc_score(y_test,y_pred)"
   ]
  },
  {
   "cell_type": "code",
   "execution_count": null,
   "id": "3c91391f",
   "metadata": {},
   "outputs": [],
   "source": []
  },
  {
   "cell_type": "code",
   "execution_count": null,
   "id": "e017cbda",
   "metadata": {},
   "outputs": [],
   "source": []
  },
  {
   "cell_type": "code",
   "execution_count": null,
   "id": "c179bf85",
   "metadata": {},
   "outputs": [],
   "source": []
  },
  {
   "cell_type": "code",
   "execution_count": null,
   "id": "634de769",
   "metadata": {},
   "outputs": [],
   "source": []
  },
  {
   "cell_type": "code",
   "execution_count": null,
   "id": "23e83f4d",
   "metadata": {},
   "outputs": [],
   "source": []
  },
  {
   "cell_type": "code",
   "execution_count": null,
   "id": "83b75e93",
   "metadata": {},
   "outputs": [],
   "source": []
  }
 ],
 "metadata": {
  "kernelspec": {
   "display_name": "Python 3 (ipykernel)",
   "language": "python",
   "name": "python3"
  },
  "language_info": {
   "codemirror_mode": {
    "name": "ipython",
    "version": 3
   },
   "file_extension": ".py",
   "mimetype": "text/x-python",
   "name": "python",
   "nbconvert_exporter": "python",
   "pygments_lexer": "ipython3",
   "version": "3.9.7"
  }
 },
 "nbformat": 4,
 "nbformat_minor": 5
}
